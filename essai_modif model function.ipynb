{
 "cells": [
  {
   "cell_type": "markdown",
   "id": "2b815940",
   "metadata": {},
   "source": [
    "# Projet 7 : Analyse de sentiment sur une base de données de tweets\n",
    "\n",
    "## Plan  \n",
    "* 1 modèle simple LogisticRegression\n",
    "* 2 modele sur mesure CNN\n",
    "    * 2.1 pretraitement optimal (aucun, simple, avancé, avancé et lemmatization)\n",
    "    * 2.2 embedding optimal (aucun, glove, google)\n",
    "* 3 modèle sur mesure BiLSTM"
   ]
  },
  {
   "cell_type": "code",
   "execution_count": 2,
   "id": "5157a8bb",
   "metadata": {},
   "outputs": [
    {
     "name": "stderr",
     "output_type": "stream",
     "text": [
      "[nltk_data] Downloading package stopwords to\n",
      "[nltk_data]     C:\\Users\\Cecil\\AppData\\Roaming\\nltk_data...\n",
      "[nltk_data]   Package stopwords is already up-to-date!\n",
      "[nltk_data] Downloading package wordnet to\n",
      "[nltk_data]     C:\\Users\\Cecil\\AppData\\Roaming\\nltk_data...\n",
      "[nltk_data]   Package wordnet is already up-to-date!\n",
      "[nltk_data] Downloading package universal_tagset to\n",
      "[nltk_data]     C:\\Users\\Cecil\\AppData\\Roaming\\nltk_data...\n",
      "[nltk_data]   Package universal_tagset is already up-to-date!\n",
      "[nltk_data] Downloading package words to\n",
      "[nltk_data]     C:\\Users\\Cecil\\AppData\\Roaming\\nltk_data...\n",
      "[nltk_data]   Package words is already up-to-date!\n"
     ]
    },
    {
     "data": {
      "text/plain": [
       "True"
      ]
     },
     "execution_count": 2,
     "metadata": {},
     "output_type": "execute_result"
    }
   ],
   "source": [
    "# Basic utilities\n",
    "import os\n",
    "import re\n",
    "from string import punctuation\n",
    "from collections import Counter, defaultdict\n",
    "\n",
    "# Data manipulation and visualization\n",
    "import numpy as np\n",
    "import pandas as pd\n",
    "import matplotlib.pyplot as plt\n",
    "import seaborn as sns\n",
    "\n",
    "# Progress bar\n",
    "from tqdm.auto import tqdm \n",
    "\n",
    "\n",
    "# Word embeddings\n",
    "from gensim.models import Word2Vec,KeyedVectors\n",
    "\n",
    "# Machine Learning\n",
    "from sklearn.preprocessing import LabelEncoder \n",
    "from sklearn.model_selection import train_test_split\n",
    "from sklearn.metrics import precision_score, recall_score, f1_score, accuracy_score, confusion_matrix,roc_auc_score\n",
    "\n",
    "# Deep Learning\n",
    "import tensorflow as tf\n",
    "from tensorflow.keras.preprocessing.text import Tokenizer\n",
    "from tensorflow.keras.preprocessing.sequence import pad_sequences\n",
    "from tensorflow.keras.models import Sequential\n",
    "from tensorflow.keras.layers import Embedding,LSTM, Conv1D, GlobalMaxPooling1D, Dropout,SpatialDropout1D,Dense,\\\n",
    "                                    MaxPooling1D, TextVectorization, Bidirectional, Input\n",
    "from tensorflow.keras.callbacks import EarlyStopping, ModelCheckpoint, ReduceLROnPlateau\n",
    "from tensorflow.keras.metrics import AUC\n",
    "from tensorflow.keras.optimizers import Adam\n",
    "from tensorflow.keras.initializers import Constant\n",
    "from keras.backend import clear_session\n",
    "\n",
    "# Experiment tracking\n",
    "import mlflow\n",
    "import mlflow.keras\n",
    "\n",
    "\n",
    "# Natural Language Processing\n",
    "import nltk\n",
    "from nltk.stem import WordNetLemmatizer, SnowballStemmer\n",
    "from nltk.corpus import stopwords, wordnet\n",
    "from nltk.tag import pos_tag\n",
    "\n",
    "from datetime import datetime\n",
    "\n",
    "import pickle\n",
    "import json\n",
    "\n",
    "# Download necessary NLTK data\n",
    "nltk.download('stopwords')\n",
    "nltk.download('wordnet')\n",
    "nltk.download('universal_tagset')\n",
    "nltk.download('words')\n"
   ]
  },
  {
   "cell_type": "code",
   "execution_count": 3,
   "id": "bee4e195",
   "metadata": {},
   "outputs": [],
   "source": [
    "\n",
    "os.environ['MLFLOW_TRACKING_URI'] = 'http://localhost:5000'\n",
    "\n",
    "\n",
    "# Load and preprocess the custom dataset\n",
    "def prepro_data(df, feat, label):\n",
    "    \n",
    "    # Recupere seulement n tweet\n",
    "    df_positive = df[df[label] == 0].head(int(model_config['n_sample']/2))\n",
    "    df_negative = df[df[label] == 1].head(int(model_config['n_sample']/2))\n",
    "    df = pd.concat([df_positive, df_negative])\n",
    "    \n",
    "    \n",
    "    # avant prepro\n",
    "    for i in df[feat][0:3]:\n",
    "        print(i+'\\n')\n",
    "        \n",
    "    # prepro la colonne de tweets    \n",
    "    df[feat] = df[feat].apply(lambda x: cleaner(x)) \n",
    "   \n",
    "    # apres prepro    \n",
    "    for i in df[feat][0:3]:\n",
    "        print(i+'\\n')\n",
    "    \n",
    "    \n",
    "    x = df[feat]\n",
    "    y = df[label]\n",
    "    x_train, x_test, y_train, y_test = train_test_split(x,\n",
    "                                                        y,\n",
    "                                                        train_size=0.8, \n",
    "                                                        shuffle=True,\n",
    "                                                        stratify=y,\n",
    "                                                        random_state=42,)\n",
    "    \n",
    "    \n",
    "    print(f\"x_train shape : {len(x_train)}\")\n",
    "    print(f\"y_train shape : {len(y_train)}\")\n",
    "    print(f\"x_test shape : {len(x_test)}\")\n",
    "    print(f\"y_test shape : {len(y_test)}\")\n",
    "    \n",
    "    return x_train, y_train, x_test, y_test\n",
    "\n",
    "def cleaner(text) :     \n",
    "\n",
    "    if model_config['preprocessing'] == 'simple' :\n",
    "        \n",
    "        text = text.lower()\n",
    "        # tokenization \n",
    "        tokens = nltk.word_tokenize(text) \n",
    "        # remove puncs \n",
    "        punc = list(punctuation)\n",
    "        tokens = [word for word in tokens if word not in punc]\n",
    "        # remove stopwords \n",
    "        stop_words = set(stopwords.words('english'))\n",
    "        tokens = [word for word in tokens if  word not in stop_words]\n",
    "        text = ' '.join(tokens)\n",
    "        \n",
    "    if model_config['preprocessing'] == 'advanced' :\n",
    "\n",
    "            text = text.lower()\n",
    "\n",
    "            text = re.sub('<.*?>', '', text) # HTML tags\n",
    "            text = re.sub(r'\\d+', '', text) # numbers\n",
    "            text = re.sub(r'[^\\w\\s]', '', text) # special characters\n",
    "            text = re.sub(r'http\\S+', '', text) # URLs or web links\n",
    "            text = re.sub(r'@\\S+', '', text) # mentions\n",
    "            text = re.sub(r'#\\S+', '', text) # hashtags\n",
    "\n",
    "            # tokenization \n",
    "            tokens = nltk.word_tokenize(text) \n",
    "            # remove puncs \n",
    "            punc = list(punctuation)\n",
    "            tokens = [word for word in tokens if word not in punc]\n",
    "            # remove stopwords \n",
    "            stop_words = set(stopwords.words('english'))\n",
    "            tokens = [word for word in tokens if word not in stop_words]\n",
    "            text = ' '.join(tokens)        \n",
    "        \n",
    "        \n",
    "        \n",
    "    if model_config['preprocessing'] == 'advanced_lemma' :\n",
    "            \n",
    "            text = text.lower()\n",
    "\n",
    "            text = re.sub('<.*?>', '', text) # HTML tags\n",
    "            text = re.sub(r'\\d+', '', text) # numbers\n",
    "            text = re.sub(r'[^\\w\\s]', '', text) # special characters\n",
    "            text = re.sub(r'http\\S+', '', text) # URLs or web links\n",
    "            text = re.sub(r'@\\S+', '', text) # mentions\n",
    "            text = re.sub(r'#\\S+', '', text) # hashtags\n",
    "\n",
    "            # tokenization \n",
    "            tokens = nltk.word_tokenize(text) \n",
    "            # remove puncs \n",
    "            punc = list(punctuation)\n",
    "            tokens = [word for word in tokens if word not in punc]\n",
    "            # remove stopwords \n",
    "            stop_words = set(stopwords.words('english'))\n",
    "            tokens = [word for word in tokens if  word not in stop_words]\n",
    "            \n",
    "            lemmatizer = WordNetLemmatizer() \n",
    "            wordnet_map = {\"N\":wordnet.NOUN, \"V\":wordnet.VERB, \"J\":wordnet.ADJ, \"R\":wordnet.ADV}\n",
    "            pos_tagged_text = pos_tag(tokens)\n",
    "            l_lem = [lemmatizer.lemmatize(word, wordnet_map.get(pos[0], wordnet.NOUN)) for word, pos in pos_tagged_text]\n",
    "            \n",
    "            text = ' '.join(l_lem)\n",
    "            \n",
    "        \n",
    "    return text\n",
    "\n",
    "\n",
    "\n",
    "\n",
    "# Build the model\n",
    "def build_model():    \n",
    "    \n",
    "    vectorizer = TextVectorization(max_tokens = 20000,\n",
    "                                   output_sequence_length=200,\n",
    "                                   output_mode ='int')\n",
    "    \n",
    "    train_dataset = tf.data.Dataset.from_tensor_slices(x_train)\n",
    "    \n",
    "    vectorizer.adapt(train_dataset)    \n",
    "    voc = vectorizer.get_vocabulary()\n",
    "    print(len(voc) + 2)\n",
    "    \n",
    "    VOCAB_SIZE = len(voc) + 2 \n",
    "    EMBEDDING_DIM = 100\n",
    "    \n",
    "    current_date = datetime.now().strftime(\"%Y_%m_%d\")\n",
    "\n",
    "    # # Construire le nom du fichier\n",
    "    # file_name = f\"{current_date}_vectorizer.json\"\n",
    "    # \n",
    "    # with open(file_name, 'w') as f:\n",
    "    #     json.dump({'config': vectorizer.get_config(),\n",
    "    #                'weights': vectorizer.get_weights()}, f)\n",
    "    \n",
    "    print('Building model ...')\n",
    "\n",
    "    [print(i,':\\t',model_config[i]) for i in model_config]\n",
    "\n",
    "\n",
    "    model = Sequential()\n",
    "    model.add(Input(shape=(1,), dtype=tf.string))\n",
    "    \n",
    "    \n",
    "    model.add(vectorizer)\n",
    "    \n",
    "    print(model_config['pre_trained_embeddings'])\n",
    "    print( model_config['pre_trained_embeddings'] == 'glove200')\n",
    "    \n",
    "    if model_config['pre_trained_embeddings'] == 'aucun' :\n",
    "        embedding_layer = Embedding(\n",
    "        VOCAB_SIZE,\n",
    "        EMBEDDING_DIM,\n",
    "        trainable=True)\n",
    "        \n",
    "    if model_config['pre_trained_embeddings'] == 'glove200' :      \n",
    "        \n",
    "        path_to_glove_file = \"./glove.twitter.27B.200d.txt\"\n",
    "\n",
    "        embeddings_index = {}\n",
    "        with open(path_to_glove_file, encoding='utf-8') as f:\n",
    "            for line in f:\n",
    "                word, coefs = line.split(maxsplit=1)\n",
    "                coefs = np.fromstring(coefs, \"f\", sep=\" \")\n",
    "                embeddings_index[word] = coefs\n",
    "\n",
    "        print(\"Loading %s word vectors from glove.\" % len(embeddings_index))\n",
    "\n",
    "        display(len(vectorizer.get_vocabulary()))\n",
    "        display(vectorizer.get_vocabulary()[:5])\n",
    "        voc = vectorizer.get_vocabulary()\n",
    "        word_index = dict(zip(voc, range(len(voc))))\n",
    "\n",
    "        print(len(voc) + 2)\n",
    "        VOCAB_SIZE = len(voc) + 2\n",
    "        EMBEDDING_DIM = 200\n",
    "        hits = 0\n",
    "        misses = 0\n",
    "        # Prepare embedding matrix\n",
    "        embedding_matrix = np.zeros((VOCAB_SIZE, EMBEDDING_DIM))\n",
    "        for word, i in word_index.items():\n",
    "            embedding_vector = embeddings_index.get(word)\n",
    "            if embedding_vector is not None:\n",
    "                # Words not found in embedding index will be all-zeros.\n",
    "                # This includes the representation for \"padding\" and \"OOV\"\n",
    "                embedding_matrix[i] = embedding_vector\n",
    "                hits += 1\n",
    "            else:\n",
    "                misses += 1\n",
    "        print(f\"Converted {hits} words ({misses} misses), {round(hits/(hits + misses) * 100)} %\")\n",
    "        \n",
    "\n",
    "        \n",
    "        embedding_layer = Embedding(\n",
    "        VOCAB_SIZE,\n",
    "        EMBEDDING_DIM,\n",
    "        embeddings_initializer=Constant(embedding_matrix),\n",
    "        trainable=True)\n",
    "\n",
    "        \n",
    "    if model_config['pre_trained_embeddings'] == 'google300' :\n",
    "\n",
    "        word2vec_path = './GoogleNews-vectors-negative300.bin'  # Update the path to your downloaded model\n",
    "        word2vec_model = KeyedVectors.load_word2vec_format(word2vec_path, binary=True)\n",
    "\n",
    "        voc = vectorizer.get_vocabulary()\n",
    "        word_index = dict(zip(voc, range(len(voc))))\n",
    "        for i, (w, index) in enumerate(word_index.items()):\n",
    "            if i < 5:\n",
    "                print(w, index)\n",
    "        # Constants\n",
    "        VOCAB_SIZE = len(voc) + 2\n",
    "        EMBEDDING_DIM = 300\n",
    "        hits = 0\n",
    "        misses = 0\n",
    "        # Prepare embedding matrix\n",
    "        embedding_matrix = np.zeros((VOCAB_SIZE, EMBEDDING_DIM))\n",
    "        for word, i in word_index.items():\n",
    "            if word in word2vec_model:\n",
    "                try:\n",
    "                    embedding_vector = word2vec_model[word]\n",
    "                    embedding_matrix[i] = embedding_vector\n",
    "                    hits += 1\n",
    "                except KeyError:\n",
    "                    misses += 1\n",
    "        print(f\"Converted {hits} words ({misses} misses), {round(hits/(hits + misses) * 100)} %\")\n",
    "\n",
    "\n",
    "        embedding_layer = Embedding(\n",
    "        VOCAB_SIZE,\n",
    "        EMBEDDING_DIM,\n",
    "        embeddings_initializer=Constant(embedding_matrix),\n",
    "        trainable=True)\n",
    "            \n",
    "    model.add(embedding_layer)\n",
    "   \n",
    "\n",
    "    if model_config['model_type'] == 'CNN':\n",
    "        model.add(Conv1D(128, 7, activation='relu', strides=3))\n",
    "        model.add(Conv1D(128, 7, activation='relu', strides=3))\n",
    "        model.add(GlobalMaxPooling1D())\n",
    "        model.add(Dense(128, activation='relu'))\n",
    "        model.add(Dropout(0.5))\n",
    "        \n",
    "    if model_config['model_type'] == 'LSTM':\n",
    "        model.add(Bidirectional(LSTM(64, return_sequences=True)))\n",
    "        model.add(Bidirectional(LSTM(64)))\n",
    "\n",
    "\n",
    "    model.add(Dense(1, activation='sigmoid', name='predictions'))\n",
    "    \n",
    "    model.summary()    \n",
    "\n",
    "    return model\n",
    "\n",
    "\n",
    "\n",
    "# Compile the model\n",
    "def compile_model(model):\n",
    "    print('Compiling model ...')\n",
    "    model.compile(optimizer=Adam(learning_rate=model_config['l_r']),\n",
    "                  loss='binary_crossentropy',\n",
    "                  metrics=['accuracy'])\n",
    "\n",
    "# Define the callbacks\n",
    "# def get_callbacks():\n",
    "#     early_stopping = EarlyStopping(monitor='val_loss',\n",
    "#                                    patience=6,\n",
    "#                                    verbose=1)\n",
    "#     model_checkpoint = ModelCheckpoint('best_model.keras',\n",
    "#                                        save_best_only=True,\n",
    "#                                        monitor='val_loss',\n",
    "#                                        verbose=1)\n",
    "#     reduce_lr = ReduceLROnPlateau(monitor='val_loss',\n",
    "#                                   factor=0.1,\n",
    "#                                   patience=6,\n",
    "#                                   verbose=1)\n",
    "#     return [early_stopping, model_checkpoint, reduce_lr]\n",
    "\n",
    "def get_callbacks():\n",
    "    early_stopping = EarlyStopping(monitor='val_loss',\n",
    "                                   patience=4,\n",
    "                                   verbose=1)\n",
    "    model_checkpoint = ModelCheckpoint('best_model.keras',\n",
    "                                       save_best_only=True,\n",
    "                                       monitor='val_loss',\n",
    "                                       verbose=1)\n",
    "    return [early_stopping, model_checkpoint]\n",
    "\n",
    "# Train the model\n",
    "def train_eval_model(model, x_train, y_train, x_test, y_test):\n",
    "    print('Start training ...')\n",
    "    callbacks = get_callbacks()\n",
    "    with mlflow.start_run(run_name=model_config['model_type']+'_'+model_config['preprocessing']+ \\\n",
    "                          '_'+model_config['pre_trained_embeddings']):\n",
    "        clear_session()\n",
    "        history = model.fit(x_train, y_train,\n",
    "                            epochs=50,\n",
    "                            batch_size=32,\n",
    "                            validation_split=0.2,\n",
    "                            callbacks=callbacks)\n",
    "        \n",
    "        pred_serie = pd.DataFrame(model.predict(x_test))\n",
    "        y_pred = pred_serie.iloc[:,0].map(lambda x : 1 if x > 0.5 else 0)\n",
    "        \n",
    "        accuracy = round(accuracy_score(y_test, y_pred),4)\n",
    "        auc = round(roc_auc_score(y_test, pred_serie),4) \n",
    "        \n",
    "        mlflow.keras.log_model(model, \"model\")        \n",
    "        mlflow.log_metric(\"Test Accuracy\", accuracy)\n",
    "        mlflow.log_metric(\"Test Auc\", auc)\n",
    "        mlflow.log_params(model_config)  # Log model configuration\n",
    "    \n",
    "        print(\"Test_Accuracy\", accuracy)\n",
    "        print(\"Test_Auc\", auc)\n",
    "        \n",
    "    return history\n",
    "\n",
    "\n",
    "# Plot accuracy and AUC\n",
    "def plot_metrics(history):\n",
    "    acc = history.history['accuracy']\n",
    "    val_acc = history.history['val_accuracy']\n",
    "    loss = history.history['loss']\n",
    "    val_loss = history.history['val_loss']\n",
    "\n",
    "    epochs = range(len(acc))\n",
    "\n",
    "    plt.plot(epochs, acc, 'b', label='Training acc')\n",
    "    plt.plot(epochs, val_acc, 'r', label='Validation acc')\n",
    "    plt.title('Training and validation accuracy')\n",
    "    plt.legend()\n",
    "\n",
    "    plt.figure()\n",
    "\n",
    "    plt.plot(epochs, loss, 'b', label='Training loss')\n",
    "    plt.plot(epochs, val_loss, 'r', label='Validation loss')\n",
    "    plt.title('Training and validation loss')\n",
    "    plt.legend()\n",
    "\n",
    "    plt.show()\n",
    "\n",
    "    "
   ]
  },
  {
   "cell_type": "markdown",
   "id": "4e515c79",
   "metadata": {},
   "source": [
    "# Chargement du dataset\n"
   ]
  },
  {
   "cell_type": "code",
   "execution_count": 4,
   "id": "7feb49c5",
   "metadata": {},
   "outputs": [
    {
     "name": "stdout",
     "output_type": "stream",
     "text": [
      "Open file: ./input\\tweet.csv\n",
      "[0 1]\n"
     ]
    }
   ],
   "source": [
    "\n",
    "\n",
    "dataset_filename = os.listdir(\"./input\")[0]\n",
    "dataset_path = os.path.join(\"./\", \"input\", dataset_filename)\n",
    "print(\"Open file:\", dataset_path)\n",
    "\n",
    "DATASET_COLUMNS = [\"labels\", \"ids\", \"date\", \"flag\", \"user\", \"text\"]\n",
    "DATASET_ENCODING = \"ISO-8859-1\"\n",
    "df = pd.read_csv(dataset_path,\n",
    "                 encoding=DATASET_ENCODING,\n",
    "                 names=DATASET_COLUMNS)\n",
    "df['labels'] = df['labels'].replace(4, 1)\n",
    "\n",
    "print(df['labels'].unique())\n"
   ]
  },
  {
   "cell_type": "code",
   "execution_count": 4,
   "id": "cfb56c09",
   "metadata": {
    "scrolled": true
   },
   "outputs": [
    {
     "data": {
      "text/html": [
       "<div>\n",
       "<style scoped>\n",
       "    .dataframe tbody tr th:only-of-type {\n",
       "        vertical-align: middle;\n",
       "    }\n",
       "\n",
       "    .dataframe tbody tr th {\n",
       "        vertical-align: top;\n",
       "    }\n",
       "\n",
       "    .dataframe thead th {\n",
       "        text-align: right;\n",
       "    }\n",
       "</style>\n",
       "<table border=\"1\" class=\"dataframe\">\n",
       "  <thead>\n",
       "    <tr style=\"text-align: right;\">\n",
       "      <th></th>\n",
       "      <th>labels</th>\n",
       "      <th>ids</th>\n",
       "      <th>date</th>\n",
       "      <th>flag</th>\n",
       "      <th>user</th>\n",
       "      <th>text</th>\n",
       "    </tr>\n",
       "  </thead>\n",
       "  <tbody>\n",
       "    <tr>\n",
       "      <th>0</th>\n",
       "      <td>0</td>\n",
       "      <td>1467810369</td>\n",
       "      <td>Mon Apr 06 22:19:45 PDT 2009</td>\n",
       "      <td>NO_QUERY</td>\n",
       "      <td>_TheSpecialOne_</td>\n",
       "      <td>@switchfoot http://twitpic.com/2y1zl - Awww, t...</td>\n",
       "    </tr>\n",
       "    <tr>\n",
       "      <th>1</th>\n",
       "      <td>0</td>\n",
       "      <td>1467810672</td>\n",
       "      <td>Mon Apr 06 22:19:49 PDT 2009</td>\n",
       "      <td>NO_QUERY</td>\n",
       "      <td>scotthamilton</td>\n",
       "      <td>is upset that he can't update his Facebook by ...</td>\n",
       "    </tr>\n",
       "    <tr>\n",
       "      <th>2</th>\n",
       "      <td>0</td>\n",
       "      <td>1467810917</td>\n",
       "      <td>Mon Apr 06 22:19:53 PDT 2009</td>\n",
       "      <td>NO_QUERY</td>\n",
       "      <td>mattycus</td>\n",
       "      <td>@Kenichan I dived many times for the ball. Man...</td>\n",
       "    </tr>\n",
       "    <tr>\n",
       "      <th>3</th>\n",
       "      <td>0</td>\n",
       "      <td>1467811184</td>\n",
       "      <td>Mon Apr 06 22:19:57 PDT 2009</td>\n",
       "      <td>NO_QUERY</td>\n",
       "      <td>ElleCTF</td>\n",
       "      <td>my whole body feels itchy and like its on fire</td>\n",
       "    </tr>\n",
       "    <tr>\n",
       "      <th>4</th>\n",
       "      <td>0</td>\n",
       "      <td>1467811193</td>\n",
       "      <td>Mon Apr 06 22:19:57 PDT 2009</td>\n",
       "      <td>NO_QUERY</td>\n",
       "      <td>Karoli</td>\n",
       "      <td>@nationwideclass no, it's not behaving at all....</td>\n",
       "    </tr>\n",
       "  </tbody>\n",
       "</table>\n",
       "</div>"
      ],
      "text/plain": [
       "   labels         ids                          date      flag   \n",
       "0       0  1467810369  Mon Apr 06 22:19:45 PDT 2009  NO_QUERY  \\\n",
       "1       0  1467810672  Mon Apr 06 22:19:49 PDT 2009  NO_QUERY   \n",
       "2       0  1467810917  Mon Apr 06 22:19:53 PDT 2009  NO_QUERY   \n",
       "3       0  1467811184  Mon Apr 06 22:19:57 PDT 2009  NO_QUERY   \n",
       "4       0  1467811193  Mon Apr 06 22:19:57 PDT 2009  NO_QUERY   \n",
       "\n",
       "              user                                               text  \n",
       "0  _TheSpecialOne_  @switchfoot http://twitpic.com/2y1zl - Awww, t...  \n",
       "1    scotthamilton  is upset that he can't update his Facebook by ...  \n",
       "2         mattycus  @Kenichan I dived many times for the ball. Man...  \n",
       "3          ElleCTF    my whole body feels itchy and like its on fire   \n",
       "4           Karoli  @nationwideclass no, it's not behaving at all....  "
      ]
     },
     "execution_count": 4,
     "metadata": {},
     "output_type": "execute_result"
    }
   ],
   "source": [
    "df.head()"
   ]
  },
  {
   "cell_type": "code",
   "execution_count": 9,
   "id": "2e401b29",
   "metadata": {},
   "outputs": [],
   "source": [
    "x_train=['je mange bien', 'je mange beaucoup']\n",
    "x_test=['je mange trop', 'je mange beaucoup']\n",
    "\n",
    "vectorizer = TextVectorization(max_tokens=20000, output_sequence_length=10)\n",
    "vectorizer.adapt(x_train)    \n",
    "\n",
    "x_train_vec = vectorizer(x_train)\n",
    "x_test_vec = vectorizer(x_test) "
   ]
  },
  {
   "cell_type": "code",
   "execution_count": 10,
   "id": "304d1182",
   "metadata": {},
   "outputs": [
    {
     "data": {
      "text/plain": [
       "<tf.Tensor: shape=(2, 10), dtype=int64, numpy=\n",
       "array([[3, 2, 4, 0, 0, 0, 0, 0, 0, 0],\n",
       "       [3, 2, 5, 0, 0, 0, 0, 0, 0, 0]], dtype=int64)>"
      ]
     },
     "execution_count": 10,
     "metadata": {},
     "output_type": "execute_result"
    }
   ],
   "source": [
    "x_train_vec"
   ]
  },
  {
   "cell_type": "code",
   "execution_count": 11,
   "id": "092485d0",
   "metadata": {},
   "outputs": [
    {
     "data": {
      "text/plain": [
       "<tf.Tensor: shape=(2, 10), dtype=int64, numpy=\n",
       "array([[3, 2, 1, 0, 0, 0, 0, 0, 0, 0],\n",
       "       [3, 2, 5, 0, 0, 0, 0, 0, 0, 0]], dtype=int64)>"
      ]
     },
     "execution_count": 11,
     "metadata": {},
     "output_type": "execute_result"
    }
   ],
   "source": [
    "x_test_vec"
   ]
  },
  {
   "cell_type": "markdown",
   "id": "495ffafc",
   "metadata": {},
   "source": [
    "\n",
    "# Modèles LR sklearn avec suivi mlflow\n",
    "\n",
    "Dans cette partie, nous réalisons un modèle simple de régression logistique avec la library scikit-learn.\n",
    "Nous réalisons un pipeline avec une extraction de feature via TF-IDF puis nous trouvons les meilleurs hyperparamètres grace à gridsearch."
   ]
  },
  {
   "cell_type": "code",
   "execution_count": 12,
   "id": "8a42f5c3",
   "metadata": {},
   "outputs": [
    {
     "name": "stdout",
     "output_type": "stream",
     "text": [
      "x_train shape : (320000,)\n",
      "y_train shape : (320000,)\n",
      "x_test shape : (80000,)\n",
      "y_test shape : (80000,)\n",
      "model_type :\t LR\n",
      "preprocessing :\t aucun\n",
      "pre_trained_embeddings :\t None\n",
      "n_sample :\t 400000\n",
      "l_r :\t -\n"
     ]
    },
    {
     "data": {
      "text/plain": [
       "1042580                     @Alicia_86 srry  u get my tweet?\n",
       "1246955    @jchiarelli TTS to take text Tweets to the pho...\n",
       "1585960                         Mmmm apple cinnomin oatmeal \n",
       "1312063    @willwallaceii thanks man. the truth can be fu...\n",
       "1023142            RAIN   The plants and trees are happy ^~^\n",
       "Name: text, dtype: object"
      ]
     },
     "metadata": {},
     "output_type": "display_data"
    },
    {
     "name": "stdout",
     "output_type": "stream",
     "text": [
      "Fitting 5 folds for each of 10 candidates, totalling 50 fits\n",
      "              precision    recall  f1-score   support\n",
      "\n",
      "           0       0.80      0.79      0.79     40000\n",
      "           1       0.79      0.80      0.80     40000\n",
      "\n",
      "    accuracy                           0.80     80000\n",
      "   macro avg       0.80      0.80      0.80     80000\n",
      "weighted avg       0.80      0.80      0.80     80000\n",
      "\n"
     ]
    },
    {
     "data": {
      "image/png": "[encoded data removed]",
      "text/plain": [
       "<Figure size 800x600 with 2 Axes>"
      ]
     },
     "metadata": {},
     "output_type": "display_data"
    },
    {
     "name": "stderr",
     "output_type": "stream",
     "text": [
      "C:\\anaconda\\envs\\7_sentiment\\Lib\\site-packages\\_distutils_hack\\__init__.py:26: UserWarning: Setuptools is replacing distutils.\n",
      "  warnings.warn(\"Setuptools is replacing distutils.\")\n"
     ]
    }
   ],
   "source": [
    "from sklearn.model_selection import GridSearchCV\n",
    "from sklearn.model_selection import train_test_split\n",
    "from sklearn.preprocessing import LabelEncoder\n",
    "from sklearn.metrics import confusion_matrix, classification_report, accuracy_score, roc_auc_score\n",
    "from sklearn.feature_extraction.text import TfidfVectorizer\n",
    "from sklearn.pipeline import Pipeline\n",
    "from sklearn.linear_model import LogisticRegression\n",
    "\n",
    "model_config = {\n",
    "                'model_type': 'LR',\n",
    "                'preprocessing': 'aucun',\n",
    "                'pre_trained_embeddings' :  \"None\",   \n",
    "                'n_sample' : 400000,\n",
    "                'l_r' : \"-\",\n",
    "                }\n",
    "\n",
    "x_train, x_test, y_train, y_test = train_test_split(df['text'],\n",
    "                                                    df['labels'],\n",
    "                                                    train_size=int(model_config['n_sample']*0.8),\n",
    "                                                    test_size=int(model_config['n_sample']*0.2),\n",
    "                                                    random_state=42,\n",
    "                                                    shuffle=True,\n",
    "                                                    stratify=df['labels'])\n",
    "\n",
    "print(f\"x_train shape : {x_train.shape}\")\n",
    "print(f\"y_train shape : {y_train.shape}\")\n",
    "print(f\"x_test shape : {x_test.shape}\")\n",
    "print(f\"y_test shape : {y_test.shape}\")\n",
    "\n",
    "[print(i,':\\t',model_config[i]) for i in model_config]\n",
    "\n",
    "\n",
    "\n",
    "display(x_train.head())\n",
    "# Define the pipeline\n",
    "pipeline = Pipeline([\n",
    "    ('tfidf', TfidfVectorizer()),  # Convert text to TF-IDF vectors\n",
    "    ('clf', LogisticRegression(max_iter=1000))  # Logistic Regression classifier\n",
    "])\n",
    "\n",
    "# Define the parameter grid\n",
    "param_grid = {\n",
    "    'clf__penalty': ['l1', 'l2'],\n",
    "    'clf__C': [0.01, 0.1, 1, 10, 100],\n",
    "    'clf__solver': ['liblinear']  # 'liblinear' is used for l1 and l2 penalties\n",
    "}\n",
    "\n",
    "# Initialize GridSearchCV\n",
    "grid_search = GridSearchCV(pipeline, param_grid, cv=5, n_jobs=-1, verbose=1, scoring='accuracy')\n",
    "\n",
    "with mlflow.start_run(run_name='LR_GridSearch') as run:\n",
    "\n",
    "    # Perform grid search\n",
    "    grid_search.fit(x_train, y_train)\n",
    "\n",
    "    # Get the best parameters and estimator\n",
    "    best_params = grid_search.best_params_\n",
    "    best_estimator = grid_search.best_estimator_\n",
    "\n",
    "    # Predict on the test set\n",
    "    y_pred = best_estimator.predict(x_test)\n",
    "\n",
    "    # Evaluate the model\n",
    "    report = classification_report(y_test, y_pred)\n",
    "    print(report)\n",
    "\n",
    "    # Calculate the confusion matrix\n",
    "    conf_matrix = confusion_matrix(y_test, y_pred, labels=best_estimator.named_steps['clf'].classes_)\n",
    "\n",
    "    # Display the confusion matrix with seaborn\n",
    "    plt.figure(figsize=(8, 6))\n",
    "    sns.heatmap(conf_matrix, annot=True, fmt='d', cmap='Blues', xticklabels=best_estimator.named_steps['clf'].classes_, yticklabels=best_estimator.named_steps['clf'].classes_)\n",
    "    plt.xlabel('Predictions')\n",
    "    plt.ylabel('True Labels')\n",
    "    plt.title('Confusion Matrix')\n",
    "    plt.show()\n",
    "\n",
    "    # Compute test accuracy\n",
    "    acc = accuracy_score(y_test, y_pred)\n",
    "    auc = roc_auc_score(y_test, best_estimator.predict_proba(x_test)[:,1])\n",
    "    \n",
    "    mlflow.log_metric('Test Accuracy', acc)\n",
    "    mlflow.log_metric('Test Accuracy', auc)\n",
    "    \n",
    "    mlflow.sklearn.log_model(best_estimator, \"best_model\")\n",
    "        "
   ]
  },
  {
   "cell_type": "markdown",
   "id": "19ce41aa",
   "metadata": {},
   "source": [
    "# Modèles CNN avec suivi mlflow"
   ]
  },
  {
   "cell_type": "code",
   "execution_count": 13,
   "id": "56309f47",
   "metadata": {
    "scrolled": true
   },
   "outputs": [
    {
     "name": "stdout",
     "output_type": "stream",
     "text": [
      "@switchfoot http://twitpic.com/2y1zl - Awww, that's a bummer.  You shoulda got David Carr of Third Day to do it. ;D\n",
      "\n",
      "is upset that he can't update his Facebook by texting it... and might cry as a result  School today also. Blah!\n",
      "\n",
      "@Kenichan I dived many times for the ball. Managed to save 50%  The rest go out of bounds\n",
      "\n",
      "@switchfoot http://twitpic.com/2y1zl - Awww, that's a bummer.  You shoulda got David Carr of Third Day to do it. ;D\n",
      "\n",
      "is upset that he can't update his Facebook by texting it... and might cry as a result  School today also. Blah!\n",
      "\n",
      "@Kenichan I dived many times for the ball. Managed to save 50%  The rest go out of bounds\n",
      "\n",
      "x_train shape : 320000\n",
      "y_train shape : 320000\n",
      "x_test shape : 80000\n",
      "y_test shape : 80000\n",
      "20002\n",
      "Building model ...\n",
      "model_type :\t CNN\n",
      "preprocessing :\t aucun\n",
      "pre_trained_embeddings :\t aucun\n",
      "n_sample :\t 400000\n",
      "l_r :\t 5e-05\n",
      "aucun\n",
      "False\n"
     ]
    },
    {
     "data": {
      "text/html": [
       "<pre style=\"white-space:pre;overflow-x:auto;line-height:normal;font-family:Menlo,'DejaVu Sans Mono',consolas,'Courier New',monospace\"><span style=\"font-weight: bold\">Model: \"sequential\"</span>\n",
       "</pre>\n"
      ],
      "text/plain": [
       "\u001b[1mModel: \"sequential\"\u001b[0m\n"
      ]
     },
     "metadata": {},
     "output_type": "display_data"
    },
    {
     "data": {
      "text/html": [
       "<pre style=\"white-space:pre;overflow-x:auto;line-height:normal;font-family:Menlo,'DejaVu Sans Mono',consolas,'Courier New',monospace\">┏━━━━━━━━━━━━━━━━━━━━━━━━━━━━━━━━━━━━━━┳━━━━━━━━━━━━━━━━━━━━━━━━━━━━━┳━━━━━━━━━━━━━━━━━┓\n",
       "┃<span style=\"font-weight: bold\"> Layer (type)                         </span>┃<span style=\"font-weight: bold\"> Output Shape                </span>┃<span style=\"font-weight: bold\">         Param # </span>┃\n",
       "┡━━━━━━━━━━━━━━━━━━━━━━━━━━━━━━━━━━━━━━╇━━━━━━━━━━━━━━━━━━━━━━━━━━━━━╇━━━━━━━━━━━━━━━━━┩\n",
       "│ text_vectorization_1                 │ (<span style=\"color: #00d7ff; text-decoration-color: #00d7ff\">None</span>, <span style=\"color: #00af00; text-decoration-color: #00af00\">200</span>)                 │               <span style=\"color: #00af00; text-decoration-color: #00af00\">0</span> │\n",
       "│ (<span style=\"color: #0087ff; text-decoration-color: #0087ff\">TextVectorization</span>)                  │                             │                 │\n",
       "├──────────────────────────────────────┼─────────────────────────────┼─────────────────┤\n",
       "│ embedding (<span style=\"color: #0087ff; text-decoration-color: #0087ff\">Embedding</span>)                │ (<span style=\"color: #00d7ff; text-decoration-color: #00d7ff\">None</span>, <span style=\"color: #00af00; text-decoration-color: #00af00\">200</span>, <span style=\"color: #00af00; text-decoration-color: #00af00\">100</span>)            │       <span style=\"color: #00af00; text-decoration-color: #00af00\">2,000,200</span> │\n",
       "├──────────────────────────────────────┼─────────────────────────────┼─────────────────┤\n",
       "│ conv1d (<span style=\"color: #0087ff; text-decoration-color: #0087ff\">Conv1D</span>)                      │ (<span style=\"color: #00d7ff; text-decoration-color: #00d7ff\">None</span>, <span style=\"color: #00af00; text-decoration-color: #00af00\">65</span>, <span style=\"color: #00af00; text-decoration-color: #00af00\">128</span>)             │          <span style=\"color: #00af00; text-decoration-color: #00af00\">89,728</span> │\n",
       "├──────────────────────────────────────┼─────────────────────────────┼─────────────────┤\n",
       "│ conv1d_1 (<span style=\"color: #0087ff; text-decoration-color: #0087ff\">Conv1D</span>)                    │ (<span style=\"color: #00d7ff; text-decoration-color: #00d7ff\">None</span>, <span style=\"color: #00af00; text-decoration-color: #00af00\">20</span>, <span style=\"color: #00af00; text-decoration-color: #00af00\">128</span>)             │         <span style=\"color: #00af00; text-decoration-color: #00af00\">114,816</span> │\n",
       "├──────────────────────────────────────┼─────────────────────────────┼─────────────────┤\n",
       "│ global_max_pooling1d                 │ (<span style=\"color: #00d7ff; text-decoration-color: #00d7ff\">None</span>, <span style=\"color: #00af00; text-decoration-color: #00af00\">128</span>)                 │               <span style=\"color: #00af00; text-decoration-color: #00af00\">0</span> │\n",
       "│ (<span style=\"color: #0087ff; text-decoration-color: #0087ff\">GlobalMaxPooling1D</span>)                 │                             │                 │\n",
       "├──────────────────────────────────────┼─────────────────────────────┼─────────────────┤\n",
       "│ dense (<span style=\"color: #0087ff; text-decoration-color: #0087ff\">Dense</span>)                        │ (<span style=\"color: #00d7ff; text-decoration-color: #00d7ff\">None</span>, <span style=\"color: #00af00; text-decoration-color: #00af00\">128</span>)                 │          <span style=\"color: #00af00; text-decoration-color: #00af00\">16,512</span> │\n",
       "├──────────────────────────────────────┼─────────────────────────────┼─────────────────┤\n",
       "│ dropout (<span style=\"color: #0087ff; text-decoration-color: #0087ff\">Dropout</span>)                    │ (<span style=\"color: #00d7ff; text-decoration-color: #00d7ff\">None</span>, <span style=\"color: #00af00; text-decoration-color: #00af00\">128</span>)                 │               <span style=\"color: #00af00; text-decoration-color: #00af00\">0</span> │\n",
       "├──────────────────────────────────────┼─────────────────────────────┼─────────────────┤\n",
       "│ predictions (<span style=\"color: #0087ff; text-decoration-color: #0087ff\">Dense</span>)                  │ (<span style=\"color: #00d7ff; text-decoration-color: #00d7ff\">None</span>, <span style=\"color: #00af00; text-decoration-color: #00af00\">1</span>)                   │             <span style=\"color: #00af00; text-decoration-color: #00af00\">129</span> │\n",
       "└──────────────────────────────────────┴─────────────────────────────┴─────────────────┘\n",
       "</pre>\n"
      ],
      "text/plain": [
       "┏━━━━━━━━━━━━━━━━━━━━━━━━━━━━━━━━━━━━━━┳━━━━━━━━━━━━━━━━━━━━━━━━━━━━━┳━━━━━━━━━━━━━━━━━┓\n",
       "┃\u001b[1m \u001b[0m\u001b[1mLayer (type)                        \u001b[0m\u001b[1m \u001b[0m┃\u001b[1m \u001b[0m\u001b[1mOutput Shape               \u001b[0m\u001b[1m \u001b[0m┃\u001b[1m \u001b[0m\u001b[1m        Param #\u001b[0m\u001b[1m \u001b[0m┃\n",
       "┡━━━━━━━━━━━━━━━━━━━━━━━━━━━━━━━━━━━━━━╇━━━━━━━━━━━━━━━━━━━━━━━━━━━━━╇━━━━━━━━━━━━━━━━━┩\n",
       "│ text_vectorization_1                 │ (\u001b[38;5;45mNone\u001b[0m, \u001b[38;5;34m200\u001b[0m)                 │               \u001b[38;5;34m0\u001b[0m │\n",
       "│ (\u001b[38;5;33mTextVectorization\u001b[0m)                  │                             │                 │\n",
       "├──────────────────────────────────────┼─────────────────────────────┼─────────────────┤\n",
       "│ embedding (\u001b[38;5;33mEmbedding\u001b[0m)                │ (\u001b[38;5;45mNone\u001b[0m, \u001b[38;5;34m200\u001b[0m, \u001b[38;5;34m100\u001b[0m)            │       \u001b[38;5;34m2,000,200\u001b[0m │\n",
       "├──────────────────────────────────────┼─────────────────────────────┼─────────────────┤\n",
       "│ conv1d (\u001b[38;5;33mConv1D\u001b[0m)                      │ (\u001b[38;5;45mNone\u001b[0m, \u001b[38;5;34m65\u001b[0m, \u001b[38;5;34m128\u001b[0m)             │          \u001b[38;5;34m89,728\u001b[0m │\n",
       "├──────────────────────────────────────┼─────────────────────────────┼─────────────────┤\n",
       "│ conv1d_1 (\u001b[38;5;33mConv1D\u001b[0m)                    │ (\u001b[38;5;45mNone\u001b[0m, \u001b[38;5;34m20\u001b[0m, \u001b[38;5;34m128\u001b[0m)             │         \u001b[38;5;34m114,816\u001b[0m │\n",
       "├──────────────────────────────────────┼─────────────────────────────┼─────────────────┤\n",
       "│ global_max_pooling1d                 │ (\u001b[38;5;45mNone\u001b[0m, \u001b[38;5;34m128\u001b[0m)                 │               \u001b[38;5;34m0\u001b[0m │\n",
       "│ (\u001b[38;5;33mGlobalMaxPooling1D\u001b[0m)                 │                             │                 │\n",
       "├──────────────────────────────────────┼─────────────────────────────┼─────────────────┤\n",
       "│ dense (\u001b[38;5;33mDense\u001b[0m)                        │ (\u001b[38;5;45mNone\u001b[0m, \u001b[38;5;34m128\u001b[0m)                 │          \u001b[38;5;34m16,512\u001b[0m │\n",
       "├──────────────────────────────────────┼─────────────────────────────┼─────────────────┤\n",
       "│ dropout (\u001b[38;5;33mDropout\u001b[0m)                    │ (\u001b[38;5;45mNone\u001b[0m, \u001b[38;5;34m128\u001b[0m)                 │               \u001b[38;5;34m0\u001b[0m │\n",
       "├──────────────────────────────────────┼─────────────────────────────┼─────────────────┤\n",
       "│ predictions (\u001b[38;5;33mDense\u001b[0m)                  │ (\u001b[38;5;45mNone\u001b[0m, \u001b[38;5;34m1\u001b[0m)                   │             \u001b[38;5;34m129\u001b[0m │\n",
       "└──────────────────────────────────────┴─────────────────────────────┴─────────────────┘\n"
      ]
     },
     "metadata": {},
     "output_type": "display_data"
    },
    {
     "data": {
      "text/html": [
       "<pre style=\"white-space:pre;overflow-x:auto;line-height:normal;font-family:Menlo,'DejaVu Sans Mono',consolas,'Courier New',monospace\"><span style=\"font-weight: bold\"> Total params: </span><span style=\"color: #00af00; text-decoration-color: #00af00\">2,221,385</span> (8.47 MB)\n",
       "</pre>\n"
      ],
      "text/plain": [
       "\u001b[1m Total params: \u001b[0m\u001b[38;5;34m2,221,385\u001b[0m (8.47 MB)\n"
      ]
     },
     "metadata": {},
     "output_type": "display_data"
    },
    {
     "data": {
      "text/html": [
       "<pre style=\"white-space:pre;overflow-x:auto;line-height:normal;font-family:Menlo,'DejaVu Sans Mono',consolas,'Courier New',monospace\"><span style=\"font-weight: bold\"> Trainable params: </span><span style=\"color: #00af00; text-decoration-color: #00af00\">2,221,385</span> (8.47 MB)\n",
       "</pre>\n"
      ],
      "text/plain": [
       "\u001b[1m Trainable params: \u001b[0m\u001b[38;5;34m2,221,385\u001b[0m (8.47 MB)\n"
      ]
     },
     "metadata": {},
     "output_type": "display_data"
    },
    {
     "data": {
      "text/html": [
       "<pre style=\"white-space:pre;overflow-x:auto;line-height:normal;font-family:Menlo,'DejaVu Sans Mono',consolas,'Courier New',monospace\"><span style=\"font-weight: bold\"> Non-trainable params: </span><span style=\"color: #00af00; text-decoration-color: #00af00\">0</span> (0.00 B)\n",
       "</pre>\n"
      ],
      "text/plain": [
       "\u001b[1m Non-trainable params: \u001b[0m\u001b[38;5;34m0\u001b[0m (0.00 B)\n"
      ]
     },
     "metadata": {},
     "output_type": "display_data"
    },
    {
     "name": "stdout",
     "output_type": "stream",
     "text": [
      "Compiling model ...\n",
      "Start training ...\n",
      "WARNING:tensorflow:From C:\\anaconda\\envs\\7_sentiment\\Lib\\site-packages\\keras\\src\\backend\\common\\global_state.py:82: The name tf.reset_default_graph is deprecated. Please use tf.compat.v1.reset_default_graph instead.\n",
      "\n",
      "Epoch 1/50\n",
      "\u001b[1m8000/8000\u001b[0m \u001b[32m━━━━━━━━━━━━━━━━━━━━\u001b[0m\u001b[37m\u001b[0m \u001b[1m0s\u001b[0m 30ms/step - accuracy: 0.6641 - loss: 0.5850\n",
      "Epoch 1: val_loss improved from inf to 0.44628, saving model to best_model.keras\n",
      "\u001b[1m8000/8000\u001b[0m \u001b[32m━━━━━━━━━━━━━━━━━━━━\u001b[0m\u001b[37m\u001b[0m \u001b[1m250s\u001b[0m 31ms/step - accuracy: 0.6641 - loss: 0.5850 - val_accuracy: 0.7933 - val_loss: 0.4463\n",
      "Epoch 2/50\n",
      "\u001b[1m7999/8000\u001b[0m \u001b[32m━━━━━━━━━━━━━━━━━━━\u001b[0m\u001b[37m━\u001b[0m \u001b[1m0s\u001b[0m 30ms/step - accuracy: 0.8051 - loss: 0.4287\n",
      "Epoch 2: val_loss improved from 0.44628 to 0.43771, saving model to best_model.keras\n",
      "\u001b[1m8000/8000\u001b[0m \u001b[32m━━━━━━━━━━━━━━━━━━━━\u001b[0m\u001b[37m\u001b[0m \u001b[1m244s\u001b[0m 30ms/step - accuracy: 0.8051 - loss: 0.4287 - val_accuracy: 0.7974 - val_loss: 0.4377\n",
      "Epoch 3/50\n",
      "\u001b[1m7999/8000\u001b[0m \u001b[32m━━━━━━━━━━━━━━━━━━━\u001b[0m\u001b[37m━\u001b[0m \u001b[1m0s\u001b[0m 31ms/step - accuracy: 0.8197 - loss: 0.4038\n",
      "Epoch 3: val_loss improved from 0.43771 to 0.43600, saving model to best_model.keras\n",
      "\u001b[1m8000/8000\u001b[0m \u001b[32m━━━━━━━━━━━━━━━━━━━━\u001b[0m\u001b[37m\u001b[0m \u001b[1m250s\u001b[0m 31ms/step - accuracy: 0.8197 - loss: 0.4038 - val_accuracy: 0.7981 - val_loss: 0.4360\n",
      "Epoch 4/50\n",
      "\u001b[1m7999/8000\u001b[0m \u001b[32m━━━━━━━━━━━━━━━━━━━\u001b[0m\u001b[37m━\u001b[0m \u001b[1m0s\u001b[0m 32ms/step - accuracy: 0.8310 - loss: 0.3812\n",
      "Epoch 4: val_loss did not improve from 0.43600\n",
      "\u001b[1m8000/8000\u001b[0m \u001b[32m━━━━━━━━━━━━━━━━━━━━\u001b[0m\u001b[37m\u001b[0m \u001b[1m258s\u001b[0m 32ms/step - accuracy: 0.8310 - loss: 0.3812 - val_accuracy: 0.7940 - val_loss: 0.4436\n",
      "Epoch 5/50\n",
      "\u001b[1m7998/8000\u001b[0m \u001b[32m━━━━━━━━━━━━━━━━━━━\u001b[0m\u001b[37m━\u001b[0m \u001b[1m0s\u001b[0m 31ms/step - accuracy: 0.8454 - loss: 0.3578\n",
      "Epoch 5: val_loss did not improve from 0.43600\n",
      "\u001b[1m8000/8000\u001b[0m \u001b[32m━━━━━━━━━━━━━━━━━━━━\u001b[0m\u001b[37m\u001b[0m \u001b[1m251s\u001b[0m 31ms/step - accuracy: 0.8454 - loss: 0.3578 - val_accuracy: 0.7946 - val_loss: 0.4482\n",
      "Epoch 6/50\n",
      "\u001b[1m7998/8000\u001b[0m \u001b[32m━━━━━━━━━━━━━━━━━━━\u001b[0m\u001b[37m━\u001b[0m \u001b[1m0s\u001b[0m 30ms/step - accuracy: 0.8617 - loss: 0.3276\n",
      "Epoch 6: val_loss did not improve from 0.43600\n",
      "\u001b[1m8000/8000\u001b[0m \u001b[32m━━━━━━━━━━━━━━━━━━━━\u001b[0m\u001b[37m\u001b[0m \u001b[1m245s\u001b[0m 31ms/step - accuracy: 0.8617 - loss: 0.3276 - val_accuracy: 0.7895 - val_loss: 0.4699\n",
      "Epoch 7/50\n",
      "\u001b[1m7999/8000\u001b[0m \u001b[32m━━━━━━━━━━━━━━━━━━━\u001b[0m\u001b[37m━\u001b[0m \u001b[1m0s\u001b[0m 31ms/step - accuracy: 0.8813 - loss: 0.2934\n",
      "Epoch 7: val_loss did not improve from 0.43600\n",
      "\u001b[1m8000/8000\u001b[0m \u001b[32m━━━━━━━━━━━━━━━━━━━━\u001b[0m\u001b[37m\u001b[0m \u001b[1m251s\u001b[0m 31ms/step - accuracy: 0.8813 - loss: 0.2934 - val_accuracy: 0.7847 - val_loss: 0.4973\n",
      "Epoch 7: early stopping\n"
     ]
    },
    {
     "name": "stderr",
     "output_type": "stream",
     "text": [
      "2024/08/10 20:55:32 WARNING mlflow.keras.save: You are saving a Keras model without specifying model signature.\n"
     ]
    },
    {
     "name": "stdout",
     "output_type": "stream",
     "text": [
      "\u001b[1m2500/2500\u001b[0m \u001b[32m━━━━━━━━━━━━━━━━━━━━\u001b[0m\u001b[37m\u001b[0m \u001b[1m7s\u001b[0m 3ms/step\n",
      "Test_Accuracy 0.7806\n",
      "Test_Auc 0.8614\n"
     ]
    },
    {
     "data": {
      "image/png": "[encoded data removed]",
      "text/plain": [
       "<Figure size 640x480 with 1 Axes>"
      ]
     },
     "metadata": {},
     "output_type": "display_data"
    },
    {
     "data": {
      "image/png": "[encoded data removed]",
      "text/plain": [
       "<Figure size 640x480 with 1 Axes>"
      ]
     },
     "metadata": {},
     "output_type": "display_data"
    },
    {
     "name": "stdout",
     "output_type": "stream",
     "text": [
      "@switchfoot http://twitpic.com/2y1zl - Awww, that's a bummer.  You shoulda got David Carr of Third Day to do it. ;D\n",
      "\n",
      "is upset that he can't update his Facebook by texting it... and might cry as a result  School today also. Blah!\n",
      "\n",
      "@Kenichan I dived many times for the ball. Managed to save 50%  The rest go out of bounds\n",
      "\n",
      "switchfoot http //twitpic.com/2y1zl awww 's bummer shoulda got david carr third day\n",
      "\n",
      "upset ca n't update facebook texting ... might cry result school today also blah\n",
      "\n",
      "kenichan dived many times ball managed save 50 rest go bounds\n",
      "\n",
      "x_train shape : 320000\n",
      "y_train shape : 320000\n",
      "x_test shape : 80000\n",
      "y_test shape : 80000\n",
      "20002\n",
      "Building model ...\n",
      "model_type :\t CNN\n",
      "preprocessing :\t simple\n",
      "pre_trained_embeddings :\t aucun\n",
      "n_sample :\t 400000\n",
      "l_r :\t 5e-05\n",
      "aucun\n",
      "False\n"
     ]
    },
    {
     "data": {
      "text/html": [
       "<pre style=\"white-space:pre;overflow-x:auto;line-height:normal;font-family:Menlo,'DejaVu Sans Mono',consolas,'Courier New',monospace\"><span style=\"font-weight: bold\">Model: \"sequential\"</span>\n",
       "</pre>\n"
      ],
      "text/plain": [
       "\u001b[1mModel: \"sequential\"\u001b[0m\n"
      ]
     },
     "metadata": {},
     "output_type": "display_data"
    },
    {
     "data": {
      "text/html": [
       "<pre style=\"white-space:pre;overflow-x:auto;line-height:normal;font-family:Menlo,'DejaVu Sans Mono',consolas,'Courier New',monospace\">┏━━━━━━━━━━━━━━━━━━━━━━━━━━━━━━━━━━━━━━┳━━━━━━━━━━━━━━━━━━━━━━━━━━━━━┳━━━━━━━━━━━━━━━━━┓\n",
       "┃<span style=\"font-weight: bold\"> Layer (type)                         </span>┃<span style=\"font-weight: bold\"> Output Shape                </span>┃<span style=\"font-weight: bold\">         Param # </span>┃\n",
       "┡━━━━━━━━━━━━━━━━━━━━━━━━━━━━━━━━━━━━━━╇━━━━━━━━━━━━━━━━━━━━━━━━━━━━━╇━━━━━━━━━━━━━━━━━┩\n",
       "│ text_vectorization                   │ (<span style=\"color: #00d7ff; text-decoration-color: #00d7ff\">None</span>, <span style=\"color: #00af00; text-decoration-color: #00af00\">200</span>)                 │               <span style=\"color: #00af00; text-decoration-color: #00af00\">0</span> │\n",
       "│ (<span style=\"color: #0087ff; text-decoration-color: #0087ff\">TextVectorization</span>)                  │                             │                 │\n",
       "├──────────────────────────────────────┼─────────────────────────────┼─────────────────┤\n",
       "│ embedding (<span style=\"color: #0087ff; text-decoration-color: #0087ff\">Embedding</span>)                │ (<span style=\"color: #00d7ff; text-decoration-color: #00d7ff\">None</span>, <span style=\"color: #00af00; text-decoration-color: #00af00\">200</span>, <span style=\"color: #00af00; text-decoration-color: #00af00\">100</span>)            │       <span style=\"color: #00af00; text-decoration-color: #00af00\">2,000,200</span> │\n",
       "├──────────────────────────────────────┼─────────────────────────────┼─────────────────┤\n",
       "│ conv1d (<span style=\"color: #0087ff; text-decoration-color: #0087ff\">Conv1D</span>)                      │ (<span style=\"color: #00d7ff; text-decoration-color: #00d7ff\">None</span>, <span style=\"color: #00af00; text-decoration-color: #00af00\">65</span>, <span style=\"color: #00af00; text-decoration-color: #00af00\">128</span>)             │          <span style=\"color: #00af00; text-decoration-color: #00af00\">89,728</span> │\n",
       "├──────────────────────────────────────┼─────────────────────────────┼─────────────────┤\n",
       "│ conv1d_1 (<span style=\"color: #0087ff; text-decoration-color: #0087ff\">Conv1D</span>)                    │ (<span style=\"color: #00d7ff; text-decoration-color: #00d7ff\">None</span>, <span style=\"color: #00af00; text-decoration-color: #00af00\">20</span>, <span style=\"color: #00af00; text-decoration-color: #00af00\">128</span>)             │         <span style=\"color: #00af00; text-decoration-color: #00af00\">114,816</span> │\n",
       "├──────────────────────────────────────┼─────────────────────────────┼─────────────────┤\n",
       "│ global_max_pooling1d                 │ (<span style=\"color: #00d7ff; text-decoration-color: #00d7ff\">None</span>, <span style=\"color: #00af00; text-decoration-color: #00af00\">128</span>)                 │               <span style=\"color: #00af00; text-decoration-color: #00af00\">0</span> │\n",
       "│ (<span style=\"color: #0087ff; text-decoration-color: #0087ff\">GlobalMaxPooling1D</span>)                 │                             │                 │\n",
       "├──────────────────────────────────────┼─────────────────────────────┼─────────────────┤\n",
       "│ dense (<span style=\"color: #0087ff; text-decoration-color: #0087ff\">Dense</span>)                        │ (<span style=\"color: #00d7ff; text-decoration-color: #00d7ff\">None</span>, <span style=\"color: #00af00; text-decoration-color: #00af00\">128</span>)                 │          <span style=\"color: #00af00; text-decoration-color: #00af00\">16,512</span> │\n",
       "├──────────────────────────────────────┼─────────────────────────────┼─────────────────┤\n",
       "│ dropout (<span style=\"color: #0087ff; text-decoration-color: #0087ff\">Dropout</span>)                    │ (<span style=\"color: #00d7ff; text-decoration-color: #00d7ff\">None</span>, <span style=\"color: #00af00; text-decoration-color: #00af00\">128</span>)                 │               <span style=\"color: #00af00; text-decoration-color: #00af00\">0</span> │\n",
       "├──────────────────────────────────────┼─────────────────────────────┼─────────────────┤\n",
       "│ predictions (<span style=\"color: #0087ff; text-decoration-color: #0087ff\">Dense</span>)                  │ (<span style=\"color: #00d7ff; text-decoration-color: #00d7ff\">None</span>, <span style=\"color: #00af00; text-decoration-color: #00af00\">1</span>)                   │             <span style=\"color: #00af00; text-decoration-color: #00af00\">129</span> │\n",
       "└──────────────────────────────────────┴─────────────────────────────┴─────────────────┘\n",
       "</pre>\n"
      ],
      "text/plain": [
       "┏━━━━━━━━━━━━━━━━━━━━━━━━━━━━━━━━━━━━━━┳━━━━━━━━━━━━━━━━━━━━━━━━━━━━━┳━━━━━━━━━━━━━━━━━┓\n",
       "┃\u001b[1m \u001b[0m\u001b[1mLayer (type)                        \u001b[0m\u001b[1m \u001b[0m┃\u001b[1m \u001b[0m\u001b[1mOutput Shape               \u001b[0m\u001b[1m \u001b[0m┃\u001b[1m \u001b[0m\u001b[1m        Param #\u001b[0m\u001b[1m \u001b[0m┃\n",
       "┡━━━━━━━━━━━━━━━━━━━━━━━━━━━━━━━━━━━━━━╇━━━━━━━━━━━━━━━━━━━━━━━━━━━━━╇━━━━━━━━━━━━━━━━━┩\n",
       "│ text_vectorization                   │ (\u001b[38;5;45mNone\u001b[0m, \u001b[38;5;34m200\u001b[0m)                 │               \u001b[38;5;34m0\u001b[0m │\n",
       "│ (\u001b[38;5;33mTextVectorization\u001b[0m)                  │                             │                 │\n",
       "├──────────────────────────────────────┼─────────────────────────────┼─────────────────┤\n",
       "│ embedding (\u001b[38;5;33mEmbedding\u001b[0m)                │ (\u001b[38;5;45mNone\u001b[0m, \u001b[38;5;34m200\u001b[0m, \u001b[38;5;34m100\u001b[0m)            │       \u001b[38;5;34m2,000,200\u001b[0m │\n",
       "├──────────────────────────────────────┼─────────────────────────────┼─────────────────┤\n",
       "│ conv1d (\u001b[38;5;33mConv1D\u001b[0m)                      │ (\u001b[38;5;45mNone\u001b[0m, \u001b[38;5;34m65\u001b[0m, \u001b[38;5;34m128\u001b[0m)             │          \u001b[38;5;34m89,728\u001b[0m │\n",
       "├──────────────────────────────────────┼─────────────────────────────┼─────────────────┤\n",
       "│ conv1d_1 (\u001b[38;5;33mConv1D\u001b[0m)                    │ (\u001b[38;5;45mNone\u001b[0m, \u001b[38;5;34m20\u001b[0m, \u001b[38;5;34m128\u001b[0m)             │         \u001b[38;5;34m114,816\u001b[0m │\n",
       "├──────────────────────────────────────┼─────────────────────────────┼─────────────────┤\n",
       "│ global_max_pooling1d                 │ (\u001b[38;5;45mNone\u001b[0m, \u001b[38;5;34m128\u001b[0m)                 │               \u001b[38;5;34m0\u001b[0m │\n",
       "│ (\u001b[38;5;33mGlobalMaxPooling1D\u001b[0m)                 │                             │                 │\n",
       "├──────────────────────────────────────┼─────────────────────────────┼─────────────────┤\n",
       "│ dense (\u001b[38;5;33mDense\u001b[0m)                        │ (\u001b[38;5;45mNone\u001b[0m, \u001b[38;5;34m128\u001b[0m)                 │          \u001b[38;5;34m16,512\u001b[0m │\n",
       "├──────────────────────────────────────┼─────────────────────────────┼─────────────────┤\n",
       "│ dropout (\u001b[38;5;33mDropout\u001b[0m)                    │ (\u001b[38;5;45mNone\u001b[0m, \u001b[38;5;34m128\u001b[0m)                 │               \u001b[38;5;34m0\u001b[0m │\n",
       "├──────────────────────────────────────┼─────────────────────────────┼─────────────────┤\n",
       "│ predictions (\u001b[38;5;33mDense\u001b[0m)                  │ (\u001b[38;5;45mNone\u001b[0m, \u001b[38;5;34m1\u001b[0m)                   │             \u001b[38;5;34m129\u001b[0m │\n",
       "└──────────────────────────────────────┴─────────────────────────────┴─────────────────┘\n"
      ]
     },
     "metadata": {},
     "output_type": "display_data"
    },
    {
     "data": {
      "text/html": [
       "<pre style=\"white-space:pre;overflow-x:auto;line-height:normal;font-family:Menlo,'DejaVu Sans Mono',consolas,'Courier New',monospace\"><span style=\"font-weight: bold\"> Total params: </span><span style=\"color: #00af00; text-decoration-color: #00af00\">2,221,385</span> (8.47 MB)\n",
       "</pre>\n"
      ],
      "text/plain": [
       "\u001b[1m Total params: \u001b[0m\u001b[38;5;34m2,221,385\u001b[0m (8.47 MB)\n"
      ]
     },
     "metadata": {},
     "output_type": "display_data"
    },
    {
     "data": {
      "text/html": [
       "<pre style=\"white-space:pre;overflow-x:auto;line-height:normal;font-family:Menlo,'DejaVu Sans Mono',consolas,'Courier New',monospace\"><span style=\"font-weight: bold\"> Trainable params: </span><span style=\"color: #00af00; text-decoration-color: #00af00\">2,221,385</span> (8.47 MB)\n",
       "</pre>\n"
      ],
      "text/plain": [
       "\u001b[1m Trainable params: \u001b[0m\u001b[38;5;34m2,221,385\u001b[0m (8.47 MB)\n"
      ]
     },
     "metadata": {},
     "output_type": "display_data"
    },
    {
     "data": {
      "text/html": [
       "<pre style=\"white-space:pre;overflow-x:auto;line-height:normal;font-family:Menlo,'DejaVu Sans Mono',consolas,'Courier New',monospace\"><span style=\"font-weight: bold\"> Non-trainable params: </span><span style=\"color: #00af00; text-decoration-color: #00af00\">0</span> (0.00 B)\n",
       "</pre>\n"
      ],
      "text/plain": [
       "\u001b[1m Non-trainable params: \u001b[0m\u001b[38;5;34m0\u001b[0m (0.00 B)\n"
      ]
     },
     "metadata": {},
     "output_type": "display_data"
    },
    {
     "name": "stdout",
     "output_type": "stream",
     "text": [
      "Compiling model ...\n",
      "Start training ...\n",
      "Epoch 1/50\n",
      "\u001b[1m8000/8000\u001b[0m \u001b[32m━━━━━━━━━━━━━━━━━━━━\u001b[0m\u001b[37m\u001b[0m \u001b[1m0s\u001b[0m 29ms/step - accuracy: 0.6428 - loss: 0.6005\n",
      "Epoch 1: val_loss improved from inf to 0.47192, saving model to best_model.keras\n",
      "\u001b[1m8000/8000\u001b[0m \u001b[32m━━━━━━━━━━━━━━━━━━━━\u001b[0m\u001b[37m\u001b[0m \u001b[1m239s\u001b[0m 30ms/step - accuracy: 0.6428 - loss: 0.6005 - val_accuracy: 0.7749 - val_loss: 0.4719\n",
      "Epoch 2/50\n",
      "\u001b[1m8000/8000\u001b[0m \u001b[32m━━━━━━━━━━━━━━━━━━━━\u001b[0m\u001b[37m\u001b[0m \u001b[1m0s\u001b[0m 29ms/step - accuracy: 0.7923 - loss: 0.4500\n",
      "Epoch 2: val_loss improved from 0.47192 to 0.46238, saving model to best_model.keras\n",
      "\u001b[1m8000/8000\u001b[0m \u001b[32m━━━━━━━━━━━━━━━━━━━━\u001b[0m\u001b[37m\u001b[0m \u001b[1m236s\u001b[0m 29ms/step - accuracy: 0.7923 - loss: 0.4500 - val_accuracy: 0.7791 - val_loss: 0.4624\n",
      "Epoch 3/50\n",
      "\u001b[1m7950/8000\u001b[0m \u001b[32m━━━━━━━━━━━━━━━━━━━\u001b[0m\u001b[37m━\u001b[0m \u001b[1m1s\u001b[0m 29ms/step - accuracy: 0.8076 - loss: 0.4217"
     ]
    }
   ],
   "source": [
    "%%time\n",
    "# Constants\n",
    "MAXLEN = 200\n",
    "VOCAB_SIZE = 20000\n",
    "EMBEDDING_DIM = 100\n",
    "BATCH_SIZE = 32\n",
    "EPOCHS = 50\n",
    "# liste des choix possibles : \n",
    "\n",
    "# model_config = {\n",
    "# 'model_type': 'CNN','LSTM',\n",
    "# 'preprocessing': 'aucun', 'simple','advanced', 'advanced_lemma',\n",
    "# 'metrics': ['accuracy', 'auc'],\n",
    "# 'embeddings' :  \"./glove.twitter.27B.[25,50,200]d.txt\", \"\"./GoogleNews-vectors-negative300.bin\"\n",
    "# 'n_sample' : 400000,O\n",
    "# }\n",
    "\n",
    "\n",
    "\n",
    "\n",
    "\n",
    "\n",
    "model_config = {\n",
    "                'model_type': 'CNN',\n",
    "                'preprocessing': 'aucun',\n",
    "                'pre_trained_embeddings' :  \"aucun\",   \n",
    "                'n_sample' : 400000,\n",
    "                'l_r' : 0.00005,\n",
    "                }\n",
    "\n",
    "x_train, y_train, x_test, y_test = prepro_data(df, 'text', 'labels')\n",
    "model = build_model()\n",
    "compile_model(model)\n",
    "history = train_eval_model(model, x_train, y_train, x_test, y_test)\n",
    "plot_metrics(history)\n",
    "conf_matrix = confusion_matrix(y_test, y_pred, labels=best_estimator.named_steps['clf'].classes_)\n",
    "\n",
    "# Display the confusion matrix with seaborn\n",
    "plt.figure(figsize=(8, 6))\n",
    "sns.heatmap(conf_matrix, annot=True, fmt='d', cmap='Blues', xticklabels=best_estimator.named_steps['clf'].classes_, yticklabels=best_estimator.named_steps['clf'].classes_)\n",
    "plt.xlabel('Predictions')\n",
    "plt.ylabel('True Labels')\n",
    "plt.title('Confusion Matrix')\n",
    "plt.show()\n",
    "    \n",
    "    \n",
    "model_config = {\n",
    "                'model_type': 'CNN',\n",
    "                'preprocessing': 'simple',\n",
    "                'pre_trained_embeddings' :  \"aucun\",   \n",
    "                'n_sample' : 400000,\n",
    "                'l_r' : 0.00005,\n",
    "                }\n",
    "\n",
    "x_train, y_train, x_test, y_test = prepro_data(df, 'text', 'labels')\n",
    "model = build_model()\n",
    "compile_model(model)\n",
    "history = train_eval_model(model, x_train, y_train, x_test, y_test)\n",
    "plot_metrics(history)\n",
    "\n",
    "model_config = {\n",
    "                'model_type': 'CNN',\n",
    "                'preprocessing': 'advanced',\n",
    "                'pre_trained_embeddings' :  \"aucun\",   \n",
    "                'n_sample' : 400000,\n",
    "                'l_r' : 0.00005,\n",
    "                }\n",
    "\n",
    "x_train, y_train, x_test, y_test = prepro_data(df, 'text', 'labels')\n",
    "model = build_model()\n",
    "compile_model(model)\n",
    "history = train_eval_model(model, x_train, y_train, x_test, y_test)\n",
    "plot_metrics(history)\n",
    "\n",
    "model_config = {\n",
    "                'model_type': 'CNN',\n",
    "                'preprocessing': 'advanced_lemma',\n",
    "                'pre_trained_embeddings' :  \"aucun\",   \n",
    "                'n_sample' : 400000,\n",
    "                'l_r' : 0.00005,\n",
    "                }\n",
    "\n",
    "x_train, y_train, x_test, y_test = prepro_data(df, 'text', 'labels')\n",
    "model = build_model()\n",
    "compile_model(model)\n",
    "history = train_eval_model(model, x_train, y_train, x_test, y_test)\n",
    "plot_metrics(history)\n"
   ]
  },
  {
   "cell_type": "markdown",
   "id": "1a974526",
   "metadata": {},
   "source": [
    "# Modele pré entrainé avec \"glove.twitter.27B.200d.txt\"\n",
    "\n",
    "source : https://keras.io/examples/nlp/pretrained_word_embeddings/"
   ]
  },
  {
   "cell_type": "code",
   "execution_count": 14,
   "id": "6334c094",
   "metadata": {
    "scrolled": false
   },
   "outputs": [],
   "source": [
    "%%time \n",
    "\n",
    "# model_config = {\n",
    "#                 'model_type': 'CNN',\n",
    "#                 'preprocessing': 'advanced_lemma',\n",
    "#                 'pre_trained_embeddings' :  \"glove_200\",   \n",
    "#                 'n_sample' : 400000,\n",
    "#                 'l_r' : 0.0001,\n",
    "#                 }\n",
    "# \n",
    "# \n",
    "# path_to_glove_file = \"./glove.twitter.27B.200d.txt\"\n",
    "# \n",
    "# embeddings_index = {}\n",
    "# with open(path_to_glove_file, encoding='utf-8') as f:\n",
    "#     for line in f:\n",
    "#         word, coefs = line.split(maxsplit=1)\n",
    "#         coefs = np.fromstring(coefs, \"f\", sep=\" \")\n",
    "#         embeddings_index[word] = coefs\n",
    "# \n",
    "# print(\"Loading %s word vectors from glove.\" % len(embeddings_index))\n",
    "\n",
    "\n",
    "# vectorizer = TextVectorization(max_tokens=20000, output_sequence_length=200)\n",
    "# \n",
    "# # Nous récupérons seulement x_train au format str pour creer le vocabulaire d'embedding sur la partie train et ne pas \n",
    "# # réaliser de dataleakage par apprentissage de données test qui seraient induites par vectorizer.adapt(df[text])\n",
    "# x_train, x_test, y_train, y_test = train_test_split(df['text'],\n",
    "#                                                     df['labels'],\n",
    "#                                                     train_size=int(model_config['n_sample']*0.8),\n",
    "#                                                     test_size=int(model_config['n_sample']*0.2),\n",
    "#                                                     shuffle=True,\n",
    "#                                                     stratify=df['labels'],\n",
    "#                                                     random_state=42,)\n",
    "# display(x_train.iloc[0])\n",
    "# x_train = x_train.apply(DataPrep)\n",
    "# display(x_train.iloc[0])\n",
    "# \n",
    "# text_ds = tf.data.Dataset.from_tensor_slices(x_train).batch(128)\n",
    "# vectorizer.adapt(text_ds)\n",
    "# display(len(vectorizer.get_vocabulary()))\n",
    "# display(vectorizer.get_vocabulary()[:5])\n",
    "# \n",
    "# voc = vectorizer.get_vocabulary()\n",
    "# word_index = dict(zip(voc, range(len(voc))))\n",
    "# \n",
    "# \n",
    "# \n",
    "# \n",
    "# print(len(voc) + 2)\n",
    "# EMBEDDING_DIM = 200\n",
    "# \n",
    "# \n",
    "# hits = 0\n",
    "# misses = 0\n",
    "# # Prepare embedding matrix\n",
    "# embedding_matrix = np.zeros((VOCAB_SIZE, EMBEDDING_DIM))\n",
    "# for word, i in word_index.items():\n",
    "#     embedding_vector = embeddings_index.get(word)\n",
    "#     if embedding_vector is not None:\n",
    "#         # Words not found in embedding index will be all-zeros.\n",
    "#         # This includes the representation for \"padding\" and \"OOV\"\n",
    "#         embedding_matrix[i] = embedding_vector\n",
    "#         hits += 1\n",
    "#     else:\n",
    "#         misses += 1\n",
    "# print(f\"Converted {hits} words ({misses} misses), {round(hits/(hits + misses) * 100)} %\")\n",
    "\n",
    "model_config = {\n",
    "                'model_type': 'CNN',\n",
    "                'preprocessing': 'aucun',\n",
    "                'pre_trained_embeddings' :  \"glove200\",   \n",
    "                'n_sample' : 400000,\n",
    "                'l_r' : 0.0001,\n",
    "                }\n",
    "\n",
    "x_train, y_train, x_test, y_test = prepro_data(df, 'text', 'labels')\n",
    "model = build_model()\n",
    "compile_model(model)\n",
    "history = train_eval_model(model, x_train, y_train, x_test, y_test)\n",
    "plot_metrics(history)"
   ]
  },
  {
   "cell_type": "markdown",
   "id": "d4ed1888",
   "metadata": {},
   "source": [
    "# Modele pré entrainé avec \"GoogleNews-vectors-negative300.bin\""
   ]
  },
  {
   "cell_type": "code",
   "execution_count": 15,
   "id": "8d216a0e",
   "metadata": {
    "scrolled": false
   },
   "outputs": [],
   "source": [
    "%%time \n",
    "\n",
    "# model_config = {\n",
    "#                 'model_type': 'CNN',\n",
    "#                 'preprocessing': 'simple',\n",
    "#                 'metrics': ['accuracy', 'auc'],\n",
    "#                 'pre_trained_embeddings' :  \"google300\",\n",
    "#                 'n_sample' : 400000,\n",
    "#                 'l_r' : 0.0001,\n",
    "#                 }\n",
    "# # Load Google News Word2Vec embeddings\n",
    "# \n",
    "# word2vec_path = './GoogleNews-vectors-negative300.bin'  # Update the path to your downloaded model\n",
    "# word2vec_model = KeyedVectors.load_word2vec_format(word2vec_path, binary=True)\n",
    "# \n",
    "# # transforme des phrases en array de int et retourne le vocabulary\n",
    "# vectorizer = TextVectorization(max_tokens=20000, output_sequence_length=200)\n",
    "# \n",
    "# # Nous récupérons seulement x_train au format str pour creer le vocabulaire d'embedding sur la partie train et ne pas \n",
    "# # réaliser de dataleakage par apprentissage de données test qui seraient induites par vectorizer.adapt(df[text])\n",
    "# x_train, x_test, y_train, y_test = train_test_split(df['text'],\n",
    "#                                                     df['labels'],\n",
    "#                                                     train_size=int(model_config['n_sample']*0.8),\n",
    "#                                                     test_size=int(model_config['n_sample']*0.2),\n",
    "#                                                     shuffle=True,\n",
    "#                                                     stratify=df['labels'],\n",
    "#                                                     random_state=42,)\n",
    "# display(len(vectorizer.get_vocabulary()))\n",
    "# text_ds = tf.data.Dataset.from_tensor_slices(x_train).batch(128)\n",
    "# vectorizer.adapt(text_ds)\n",
    "# \n",
    "# \n",
    "# display(len(vectorizer.get_vocabulary()))\n",
    "# display(vectorizer.get_vocabulary()[:5])\n",
    "# \n",
    "# voc = vectorizer.get_vocabulary()\n",
    "# word_index = dict(zip(voc, range(len(voc))))\n",
    "# \n",
    "# for i, (w, index) in enumerate(word_index.items()):\n",
    "#     if i < 5:\n",
    "#         print(w, index)\n",
    "# \n",
    "# # Constants\n",
    "# VOCAB_SIZE = len(voc) + 2\n",
    "# EMBEDDING_DIM = 300\n",
    "# \n",
    "# \n",
    "# hits = 0\n",
    "# misses = 0\n",
    "# # Prepare embedding matrix\n",
    "# embedding_matrix = np.zeros((VOCAB_SIZE, EMBEDDING_DIM))\n",
    "# for word, i in word_index.items():\n",
    "#     if word in word2vec_model:\n",
    "#         try:\n",
    "#             embedding_vector = word2vec_model[word]\n",
    "#             embedding_matrix[i] = embedding_vector\n",
    "#             hits += 1\n",
    "#         except KeyError:\n",
    "#             misses += 1\n",
    "# print(f\"Converted {hits} words ({misses} misses), {round(hits/(hits + misses) * 100)} %\")\n",
    "# \n",
    "# \n",
    "# \n",
    "# x_train, y_train, x_test, y_test = prepro_data(df, 'text', 'labels')\n",
    "# model = build_model()\n",
    "# compile_model(model)\n",
    "# history = train_eval_model(model, x_train, y_train, x_test, y_test)\n",
    "# plot_metrics(history)\n",
    "model_config = {\n",
    "                'model_type': 'CNN',\n",
    "                'preprocessing': 'aucun',\n",
    "                'pre_trained_embeddings' :  \"google300\",   \n",
    "                'n_sample' : 400000,\n",
    "                'l_r' : 0.0001,\n",
    "                }\n",
    "\n",
    "x_train, y_train, x_test, y_test = prepro_data(df, 'text', 'labels')\n",
    "model = build_model()\n",
    "compile_model(model)\n",
    "history = train_eval_model(model, x_train, y_train, x_test, y_test)\n",
    "plot_metrics(history)\n"
   ]
  },
  {
   "cell_type": "markdown",
   "id": "597e8bd7",
   "metadata": {},
   "source": [
    "# Modèle LSTM bidirectionnel sans pre trained embedding"
   ]
  },
  {
   "cell_type": "markdown",
   "id": "afea1c02",
   "metadata": {},
   "source": [
    "source : https://keras.io/examples/nlp/bidirectional_lstm_imdb/"
   ]
  },
  {
   "cell_type": "code",
   "execution_count": 23,
   "id": "a8287df1",
   "metadata": {},
   "outputs": [
    {
     "name": "stdout",
     "output_type": "stream",
     "text": [
      "@switchfoot http://twitpic.com/2y1zl - Awww, that's a bummer.  You shoulda got David Carr of Third Day to do it. ;D\n",
      "\n",
      "is upset that he can't update his Facebook by texting it... and might cry as a result  School today also. Blah!\n",
      "\n",
      "@Kenichan I dived many times for the ball. Managed to save 50%  The rest go out of bounds\n",
      "\n",
      "@switchfoot http://twitpic.com/2y1zl - Awww, that's a bummer.  You shoulda got David Carr of Third Day to do it. ;D\n",
      "\n",
      "is upset that he can't update his Facebook by texting it... and might cry as a result  School today also. Blah!\n",
      "\n",
      "@Kenichan I dived many times for the ball. Managed to save 50%  The rest go out of bounds\n",
      "\n",
      "x_train shape : 320000\n",
      "y_train shape : 320000\n",
      "x_test shape : 80000\n",
      "y_test shape : 80000\n",
      "20002\n",
      "Building model ...\n",
      "model_type :\t LSTM\n",
      "preprocessing :\t aucun\n",
      "pre_trained_embeddings :\t aucun\n",
      "n_sample :\t 400000\n",
      "l_r :\t 5e-05\n",
      "aucun\n",
      "False\n"
     ]
    },
    {
     "data": {
      "text/html": [
       "<pre style=\"white-space:pre;overflow-x:auto;line-height:normal;font-family:Menlo,'DejaVu Sans Mono',consolas,'Courier New',monospace\"><span style=\"font-weight: bold\">Model: \"sequential\"</span>\n",
       "</pre>\n"
      ],
      "text/plain": [
       "\u001b[1mModel: \"sequential\"\u001b[0m\n"
      ]
     },
     "metadata": {},
     "output_type": "display_data"
    },
    {
     "data": {
      "text/html": [
       "<pre style=\"white-space:pre;overflow-x:auto;line-height:normal;font-family:Menlo,'DejaVu Sans Mono',consolas,'Courier New',monospace\">┏━━━━━━━━━━━━━━━━━━━━━━━━━━━━━━━━━━━━━━┳━━━━━━━━━━━━━━━━━━━━━━━━━━━━━┳━━━━━━━━━━━━━━━━━┓\n",
       "┃<span style=\"font-weight: bold\"> Layer (type)                         </span>┃<span style=\"font-weight: bold\"> Output Shape                </span>┃<span style=\"font-weight: bold\">         Param # </span>┃\n",
       "┡━━━━━━━━━━━━━━━━━━━━━━━━━━━━━━━━━━━━━━╇━━━━━━━━━━━━━━━━━━━━━━━━━━━━━╇━━━━━━━━━━━━━━━━━┩\n",
       "│ text_vectorization                   │ (<span style=\"color: #00d7ff; text-decoration-color: #00d7ff\">None</span>, <span style=\"color: #00af00; text-decoration-color: #00af00\">200</span>)                 │               <span style=\"color: #00af00; text-decoration-color: #00af00\">0</span> │\n",
       "│ (<span style=\"color: #0087ff; text-decoration-color: #0087ff\">TextVectorization</span>)                  │                             │                 │\n",
       "├──────────────────────────────────────┼─────────────────────────────┼─────────────────┤\n",
       "│ embedding (<span style=\"color: #0087ff; text-decoration-color: #0087ff\">Embedding</span>)                │ (<span style=\"color: #00d7ff; text-decoration-color: #00d7ff\">None</span>, <span style=\"color: #00af00; text-decoration-color: #00af00\">200</span>, <span style=\"color: #00af00; text-decoration-color: #00af00\">100</span>)            │       <span style=\"color: #00af00; text-decoration-color: #00af00\">2,000,200</span> │\n",
       "├──────────────────────────────────────┼─────────────────────────────┼─────────────────┤\n",
       "│ bidirectional (<span style=\"color: #0087ff; text-decoration-color: #0087ff\">Bidirectional</span>)        │ (<span style=\"color: #00d7ff; text-decoration-color: #00d7ff\">None</span>, <span style=\"color: #00af00; text-decoration-color: #00af00\">200</span>, <span style=\"color: #00af00; text-decoration-color: #00af00\">128</span>)            │          <span style=\"color: #00af00; text-decoration-color: #00af00\">84,480</span> │\n",
       "├──────────────────────────────────────┼─────────────────────────────┼─────────────────┤\n",
       "│ bidirectional_1 (<span style=\"color: #0087ff; text-decoration-color: #0087ff\">Bidirectional</span>)      │ (<span style=\"color: #00d7ff; text-decoration-color: #00d7ff\">None</span>, <span style=\"color: #00af00; text-decoration-color: #00af00\">128</span>)                 │          <span style=\"color: #00af00; text-decoration-color: #00af00\">98,816</span> │\n",
       "├──────────────────────────────────────┼─────────────────────────────┼─────────────────┤\n",
       "│ predictions (<span style=\"color: #0087ff; text-decoration-color: #0087ff\">Dense</span>)                  │ (<span style=\"color: #00d7ff; text-decoration-color: #00d7ff\">None</span>, <span style=\"color: #00af00; text-decoration-color: #00af00\">1</span>)                   │             <span style=\"color: #00af00; text-decoration-color: #00af00\">129</span> │\n",
       "└──────────────────────────────────────┴─────────────────────────────┴─────────────────┘\n",
       "</pre>\n"
      ],
      "text/plain": [
       "┏━━━━━━━━━━━━━━━━━━━━━━━━━━━━━━━━━━━━━━┳━━━━━━━━━━━━━━━━━━━━━━━━━━━━━┳━━━━━━━━━━━━━━━━━┓\n",
       "┃\u001b[1m \u001b[0m\u001b[1mLayer (type)                        \u001b[0m\u001b[1m \u001b[0m┃\u001b[1m \u001b[0m\u001b[1mOutput Shape               \u001b[0m\u001b[1m \u001b[0m┃\u001b[1m \u001b[0m\u001b[1m        Param #\u001b[0m\u001b[1m \u001b[0m┃\n",
       "┡━━━━━━━━━━━━━━━━━━━━━━━━━━━━━━━━━━━━━━╇━━━━━━━━━━━━━━━━━━━━━━━━━━━━━╇━━━━━━━━━━━━━━━━━┩\n",
       "│ text_vectorization                   │ (\u001b[38;5;45mNone\u001b[0m, \u001b[38;5;34m200\u001b[0m)                 │               \u001b[38;5;34m0\u001b[0m │\n",
       "│ (\u001b[38;5;33mTextVectorization\u001b[0m)                  │                             │                 │\n",
       "├──────────────────────────────────────┼─────────────────────────────┼─────────────────┤\n",
       "│ embedding (\u001b[38;5;33mEmbedding\u001b[0m)                │ (\u001b[38;5;45mNone\u001b[0m, \u001b[38;5;34m200\u001b[0m, \u001b[38;5;34m100\u001b[0m)            │       \u001b[38;5;34m2,000,200\u001b[0m │\n",
       "├──────────────────────────────────────┼─────────────────────────────┼─────────────────┤\n",
       "│ bidirectional (\u001b[38;5;33mBidirectional\u001b[0m)        │ (\u001b[38;5;45mNone\u001b[0m, \u001b[38;5;34m200\u001b[0m, \u001b[38;5;34m128\u001b[0m)            │          \u001b[38;5;34m84,480\u001b[0m │\n",
       "├──────────────────────────────────────┼─────────────────────────────┼─────────────────┤\n",
       "│ bidirectional_1 (\u001b[38;5;33mBidirectional\u001b[0m)      │ (\u001b[38;5;45mNone\u001b[0m, \u001b[38;5;34m128\u001b[0m)                 │          \u001b[38;5;34m98,816\u001b[0m │\n",
       "├──────────────────────────────────────┼─────────────────────────────┼─────────────────┤\n",
       "│ predictions (\u001b[38;5;33mDense\u001b[0m)                  │ (\u001b[38;5;45mNone\u001b[0m, \u001b[38;5;34m1\u001b[0m)                   │             \u001b[38;5;34m129\u001b[0m │\n",
       "└──────────────────────────────────────┴─────────────────────────────┴─────────────────┘\n"
      ]
     },
     "metadata": {},
     "output_type": "display_data"
    },
    {
     "data": {
      "text/html": [
       "<pre style=\"white-space:pre;overflow-x:auto;line-height:normal;font-family:Menlo,'DejaVu Sans Mono',consolas,'Courier New',monospace\"><span style=\"font-weight: bold\"> Total params: </span><span style=\"color: #00af00; text-decoration-color: #00af00\">2,183,625</span> (8.33 MB)\n",
       "</pre>\n"
      ],
      "text/plain": [
       "\u001b[1m Total params: \u001b[0m\u001b[38;5;34m2,183,625\u001b[0m (8.33 MB)\n"
      ]
     },
     "metadata": {},
     "output_type": "display_data"
    },
    {
     "data": {
      "text/html": [
       "<pre style=\"white-space:pre;overflow-x:auto;line-height:normal;font-family:Menlo,'DejaVu Sans Mono',consolas,'Courier New',monospace\"><span style=\"font-weight: bold\"> Trainable params: </span><span style=\"color: #00af00; text-decoration-color: #00af00\">2,183,625</span> (8.33 MB)\n",
       "</pre>\n"
      ],
      "text/plain": [
       "\u001b[1m Trainable params: \u001b[0m\u001b[38;5;34m2,183,625\u001b[0m (8.33 MB)\n"
      ]
     },
     "metadata": {},
     "output_type": "display_data"
    },
    {
     "data": {
      "text/html": [
       "<pre style=\"white-space:pre;overflow-x:auto;line-height:normal;font-family:Menlo,'DejaVu Sans Mono',consolas,'Courier New',monospace\"><span style=\"font-weight: bold\"> Non-trainable params: </span><span style=\"color: #00af00; text-decoration-color: #00af00\">0</span> (0.00 B)\n",
       "</pre>\n"
      ],
      "text/plain": [
       "\u001b[1m Non-trainable params: \u001b[0m\u001b[38;5;34m0\u001b[0m (0.00 B)\n"
      ]
     },
     "metadata": {},
     "output_type": "display_data"
    },
    {
     "name": "stdout",
     "output_type": "stream",
     "text": [
      "Compiling model ...\n",
      "Start training ...\n",
      "Epoch 1/50\n",
      "\u001b[1m8000/8000\u001b[0m \u001b[32m━━━━━━━━━━━━━━━━━━━━\u001b[0m\u001b[37m\u001b[0m \u001b[1m0s\u001b[0m 269ms/step - accuracy: 0.7040 - loss: 0.5532\n",
      "Epoch 1: val_loss improved from inf to 0.45232, saving model to best_model.keras\n",
      "\u001b[1m8000/8000\u001b[0m \u001b[32m━━━━━━━━━━━━━━━━━━━━\u001b[0m\u001b[37m\u001b[0m \u001b[1m2305s\u001b[0m 288ms/step - accuracy: 0.7040 - loss: 0.5532 - val_accuracy: 0.7895 - val_loss: 0.4523\n",
      "Epoch 2/50\n",
      "\u001b[1m8000/8000\u001b[0m \u001b[32m━━━━━━━━━━━━━━━━━━━━\u001b[0m\u001b[37m\u001b[0m \u001b[1m0s\u001b[0m 205ms/step - accuracy: 0.8035 - loss: 0.4318\n",
      "Epoch 2: val_loss improved from 0.45232 to 0.44772, saving model to best_model.keras\n",
      "\u001b[1m8000/8000\u001b[0m \u001b[32m━━━━━━━━━━━━━━━━━━━━\u001b[0m\u001b[37m\u001b[0m \u001b[1m1763s\u001b[0m 220ms/step - accuracy: 0.8035 - loss: 0.4318 - val_accuracy: 0.7911 - val_loss: 0.4477\n",
      "Epoch 3/50\n",
      "\u001b[1m8000/8000\u001b[0m \u001b[32m━━━━━━━━━━━━━━━━━━━━\u001b[0m\u001b[37m\u001b[0m \u001b[1m0s\u001b[0m 216ms/step - accuracy: 0.8128 - loss: 0.4144\n",
      "Epoch 3: val_loss improved from 0.44772 to 0.44198, saving model to best_model.keras\n",
      "\u001b[1m8000/8000\u001b[0m \u001b[32m━━━━━━━━━━━━━━━━━━━━\u001b[0m\u001b[37m\u001b[0m \u001b[1m1897s\u001b[0m 237ms/step - accuracy: 0.8128 - loss: 0.4144 - val_accuracy: 0.7940 - val_loss: 0.4420\n",
      "Epoch 4/50\n",
      "\u001b[1m8000/8000\u001b[0m \u001b[32m━━━━━━━━━━━━━━━━━━━━\u001b[0m\u001b[37m\u001b[0m \u001b[1m0s\u001b[0m 266ms/step - accuracy: 0.8186 - loss: 0.4035\n",
      "Epoch 4: val_loss improved from 0.44198 to 0.44119, saving model to best_model.keras\n",
      "\u001b[1m8000/8000\u001b[0m \u001b[32m━━━━━━━━━━━━━━━━━━━━\u001b[0m\u001b[37m\u001b[0m \u001b[1m2295s\u001b[0m 287ms/step - accuracy: 0.8186 - loss: 0.4035 - val_accuracy: 0.7951 - val_loss: 0.4412\n",
      "Epoch 5/50\n",
      "\u001b[1m8000/8000\u001b[0m \u001b[32m━━━━━━━━━━━━━━━━━━━━\u001b[0m\u001b[37m\u001b[0m \u001b[1m0s\u001b[0m 265ms/step - accuracy: 0.8232 - loss: 0.3933\n",
      "Epoch 5: val_loss improved from 0.44119 to 0.43978, saving model to best_model.keras\n",
      "\u001b[1m8000/8000\u001b[0m \u001b[32m━━━━━━━━━━━━━━━━━━━━\u001b[0m\u001b[37m\u001b[0m \u001b[1m2291s\u001b[0m 286ms/step - accuracy: 0.8232 - loss: 0.3933 - val_accuracy: 0.7953 - val_loss: 0.4398\n",
      "Epoch 6/50\n",
      "\u001b[1m8000/8000\u001b[0m \u001b[32m━━━━━━━━━━━━━━━━━━━━\u001b[0m\u001b[37m\u001b[0m \u001b[1m0s\u001b[0m 266ms/step - accuracy: 0.8265 - loss: 0.3843\n",
      "Epoch 6: val_loss did not improve from 0.43978\n",
      "\u001b[1m8000/8000\u001b[0m \u001b[32m━━━━━━━━━━━━━━━━━━━━\u001b[0m\u001b[37m\u001b[0m \u001b[1m2298s\u001b[0m 287ms/step - accuracy: 0.8265 - loss: 0.3843 - val_accuracy: 0.7961 - val_loss: 0.4402\n",
      "Epoch 7/50\n",
      "\u001b[1m8000/8000\u001b[0m \u001b[32m━━━━━━━━━━━━━━━━━━━━\u001b[0m\u001b[37m\u001b[0m \u001b[1m0s\u001b[0m 272ms/step - accuracy: 0.8322 - loss: 0.3750\n",
      "Epoch 7: val_loss did not improve from 0.43978\n",
      "\u001b[1m8000/8000\u001b[0m \u001b[32m━━━━━━━━━━━━━━━━━━━━\u001b[0m\u001b[37m\u001b[0m \u001b[1m2347s\u001b[0m 293ms/step - accuracy: 0.8322 - loss: 0.3750 - val_accuracy: 0.7951 - val_loss: 0.4414\n",
      "Epoch 8/50\n",
      "\u001b[1m8000/8000\u001b[0m \u001b[32m━━━━━━━━━━━━━━━━━━━━\u001b[0m\u001b[37m\u001b[0m \u001b[1m0s\u001b[0m 279ms/step - accuracy: 0.8363 - loss: 0.3646\n",
      "Epoch 8: val_loss did not improve from 0.43978\n",
      "\u001b[1m8000/8000\u001b[0m \u001b[32m━━━━━━━━━━━━━━━━━━━━\u001b[0m\u001b[37m\u001b[0m \u001b[1m2408s\u001b[0m 301ms/step - accuracy: 0.8363 - loss: 0.3646 - val_accuracy: 0.7950 - val_loss: 0.4463\n",
      "Epoch 9/50\n",
      "\u001b[1m8000/8000\u001b[0m \u001b[32m━━━━━━━━━━━━━━━━━━━━\u001b[0m\u001b[37m\u001b[0m \u001b[1m0s\u001b[0m 283ms/step - accuracy: 0.8416 - loss: 0.3534\n",
      "Epoch 9: val_loss did not improve from 0.43978\n",
      "\u001b[1m8000/8000\u001b[0m \u001b[32m━━━━━━━━━━━━━━━━━━━━\u001b[0m\u001b[37m\u001b[0m \u001b[1m2443s\u001b[0m 305ms/step - accuracy: 0.8416 - loss: 0.3534 - val_accuracy: 0.7943 - val_loss: 0.4523\n",
      "Epoch 9: early stopping\n"
     ]
    },
    {
     "name": "stderr",
     "output_type": "stream",
     "text": [
      "2024/08/11 18:23:58 WARNING mlflow.keras.save: You are saving a Keras model without specifying model signature.\n"
     ]
    },
    {
     "name": "stdout",
     "output_type": "stream",
     "text": [
      "\u001b[1m2500/2500\u001b[0m \u001b[32m━━━━━━━━━━━━━━━━━━━━\u001b[0m\u001b[37m\u001b[0m \u001b[1m236s\u001b[0m 94ms/step\n",
      "Test_Accuracy 0.7924\n",
      "Test_Auc 0.8742\n"
     ]
    },
    {
     "data": {
      "image/png": "[encoded data removed]",
      "text/plain": [
       "<Figure size 640x480 with 1 Axes>"
      ]
     },
     "metadata": {},
     "output_type": "display_data"
    },
    {
     "data": {
      "image/png": "[encoded data removed]",
      "text/plain": [
       "<Figure size 640x480 with 1 Axes>"
      ]
     },
     "metadata": {},
     "output_type": "display_data"
    },
    {
     "name": "stdout",
     "output_type": "stream",
     "text": [
      "CPU times: total: 2h 5min 18s\n",
      "Wall time: 5h 55min 9s\n"
     ]
    }
   ],
   "source": [
    "%%time\n",
    "\n",
    "# # Load Google News Word2Vec embeddings\n",
    "# \n",
    "# word2vec_path = './GoogleNews-vectors-negative300.bin'  # Update the path to your downloaded model\n",
    "# word2vec_model = KeyedVectors.load_word2vec_format(word2vec_path, binary=True)\n",
    "# \n",
    "# # transforme des phrases en array de int et creer le vocabulary\n",
    "# vectorizer = TextVectorization(max_tokens=20000, output_sequence_length=200)\n",
    "# \n",
    "# # Nous récupérons seulement x_train au format str pour creer le vocabulaire d'embedding sur la partie train et ne pas \n",
    "# # réaliser de dataleakage par apprentissage de données test qui seraient induites par vectorizer.adapt(df[text])\n",
    "# x_train, x_test, y_train, y_test = train_test_split(df['text'],\n",
    "#                                                     df['labels'],\n",
    "#                                                     train_size=int(model_config['n_sample']*0.8),\n",
    "#                                                     test_size=int(model_config['n_sample']*0.2),\n",
    "#                                                     shuffle=True,\n",
    "#                                                     stratify=df['labels'],\n",
    "#                                                     random_state=42,)\n",
    "# text_ds = tf.data.Dataset.from_tensor_slices(x_train).batch(128)\n",
    "# vectorizer.adapt(text_ds)\n",
    "# \n",
    "# display(len(vectorizer.get_vocabulary()))\n",
    "# display(vectorizer.get_vocabulary()[:5])\n",
    "# \n",
    "# voc = vectorizer.get_vocabulary()\n",
    "# word_index = dict(zip(voc, range(len(voc))))\n",
    "# \n",
    "# for i, (w, index) in enumerate(word_index.items()):\n",
    "#     if i < 5:\n",
    "#         print(w, index)\n",
    "# \n",
    "# # Constants\n",
    "\n",
    "# hits = 0\n",
    "# misses = 0\n",
    "# # Prepare embedding matrix\n",
    "# embedding_matrix = np.zeros((VOCAB_SIZE, EMBEDDING_DIM))\n",
    "# for word, i in word_index.items():\n",
    "#     if word in word2vec_model:\n",
    "#         try:\n",
    "#             embedding_vector = word2vec_model[word]\n",
    "#             embedding_matrix[i] = embedding_vector\n",
    "#             hits += 1\n",
    "#         except KeyError:\n",
    "#             misses += 1\n",
    "# print(\"Converted %d words (%d misses)\" % (hits, misses))\n",
    "\n",
    "model_config = {\n",
    "                'model_type': 'LSTM',\n",
    "                'preprocessing': 'aucun',\n",
    "                'pre_trained_embeddings' :  \"aucun\",\n",
    "                'n_sample' : 400000,\n",
    "                'l_r' : 0.00005,\n",
    "                }\n",
    "x_train, y_train, x_test, y_test = prepro_data(df, 'text', 'labels')\n",
    "model = build_model()\n",
    "compile_model(model)\n",
    "history = train_eval_model(model, x_train, y_train, x_test, y_test)\n",
    "plot_metrics(history)\n",
    "\n",
    "\n"
   ]
  },
  {
   "cell_type": "code",
   "execution_count": null,
   "id": "d36c0e84",
   "metadata": {},
   "outputs": [],
   "source": []
  },
  {
   "cell_type": "markdown",
   "id": "388794ce",
   "metadata": {},
   "source": [
    "# essai avec hugging face"
   ]
  },
  {
   "cell_type": "code",
   "execution_count": 5,
   "id": "aa4cd18d",
   "metadata": {},
   "outputs": [],
   "source": []
  },
  {
   "cell_type": "code",
   "execution_count": 6,
   "id": "1b0c4f6c",
   "metadata": {
    "scrolled": false
   },
   "outputs": [
    {
     "data": {
      "text/plain": [
       "Dataset({\n",
       "    features: ['labels', 'text'],\n",
       "    num_rows: 64000\n",
       "})"
      ]
     },
     "execution_count": 6,
     "metadata": {},
     "output_type": "execute_result"
    }
   ],
   "source": [
    "ds_train"
   ]
  },
  {
   "cell_type": "code",
   "execution_count": 7,
   "id": "2fb7f81d",
   "metadata": {},
   "outputs": [
    {
     "data": {
      "text/plain": [
       "Dataset({\n",
       "    features: ['labels', 'text'],\n",
       "    num_rows: 16000\n",
       "})"
      ]
     },
     "execution_count": 7,
     "metadata": {},
     "output_type": "execute_result"
    }
   ],
   "source": [
    "ds_test"
   ]
  },
  {
   "cell_type": "code",
   "execution_count": 7,
   "id": "55d1eca9",
   "metadata": {},
   "outputs": [
    {
     "data": {
      "application/vnd.jupyter.widget-view+json": {
       "model_id": "37ca1bd90e30472f9fe6295c64d0f3b0",
       "version_major": 2,
       "version_minor": 0
      },
      "text/plain": [
       "Map:   0%|          | 0/64000 [00:00<?, ? examples/s]"
      ]
     },
     "metadata": {},
     "output_type": "display_data"
    },
    {
     "data": {
      "application/vnd.jupyter.widget-view+json": {
       "model_id": "87693f663bb244a1b8f8f8e19f4cdfce",
       "version_major": 2,
       "version_minor": 0
      },
      "text/plain": [
       "Stringifying the column:   0%|          | 0/64000 [00:00<?, ? examples/s]"
      ]
     },
     "metadata": {},
     "output_type": "display_data"
    },
    {
     "data": {
      "application/vnd.jupyter.widget-view+json": {
       "model_id": "b0deb1e1ee064cc1bff32f76fc091b35",
       "version_major": 2,
       "version_minor": 0
      },
      "text/plain": [
       "Casting to class labels:   0%|          | 0/64000 [00:00<?, ? examples/s]"
      ]
     },
     "metadata": {},
     "output_type": "display_data"
    },
    {
     "ename": "ArrowMemoryError",
     "evalue": "realloc of size 268435456 failed",
     "output_type": "error",
     "traceback": [
      "\u001b[1;31m---------------------------------------------------------------------------\u001b[0m",
      "\u001b[1;31mArrowMemoryError\u001b[0m                          Traceback (most recent call last)",
      "Cell \u001b[1;32mIn[7], line 49\u001b[0m\n\u001b[0;32m     45\u001b[0m     \u001b[38;5;28;01mreturn\u001b[39;00m tokenizer(examples[\u001b[38;5;124m\"\u001b[39m\u001b[38;5;124mtext\u001b[39m\u001b[38;5;124m\"\u001b[39m], padding\u001b[38;5;241m=\u001b[39m\u001b[38;5;124m\"\u001b[39m\u001b[38;5;124mmax_length\u001b[39m\u001b[38;5;124m\"\u001b[39m, truncation\u001b[38;5;241m=\u001b[39m\u001b[38;5;28;01mTrue\u001b[39;00m)\n\u001b[0;32m     48\u001b[0m small_train_dataset \u001b[38;5;241m=\u001b[39m ds_train\u001b[38;5;241m.\u001b[39mmap(tokenize_function, batched\u001b[38;5;241m=\u001b[39m\u001b[38;5;28;01mTrue\u001b[39;00m)\n\u001b[1;32m---> 49\u001b[0m small_train_dataset \u001b[38;5;241m=\u001b[39m \u001b[43msmall_train_dataset\u001b[49m\u001b[38;5;241;43m.\u001b[39;49m\u001b[43mclass_encode_column\u001b[49m\u001b[43m(\u001b[49m\u001b[38;5;124;43m\"\u001b[39;49m\u001b[38;5;124;43mlabels\u001b[39;49m\u001b[38;5;124;43m\"\u001b[39;49m\u001b[43m)\u001b[49m\n\u001b[0;32m     50\u001b[0m small_eval_dataset \u001b[38;5;241m=\u001b[39m ds_test\u001b[38;5;241m.\u001b[39mmap(tokenize_function, batched\u001b[38;5;241m=\u001b[39m\u001b[38;5;28;01mTrue\u001b[39;00m)\n\u001b[0;32m     51\u001b[0m small_eval_dataset \u001b[38;5;241m=\u001b[39m small_eval_dataset\u001b[38;5;241m.\u001b[39mclass_encode_column(\u001b[38;5;124m\"\u001b[39m\u001b[38;5;124mlabels\u001b[39m\u001b[38;5;124m\"\u001b[39m)\n",
      "File \u001b[1;32mC:\\anaconda\\envs\\7_sentiment\\Lib\\site-packages\\datasets\\arrow_dataset.py:1994\u001b[0m, in \u001b[0;36mDataset.class_encode_column\u001b[1;34m(self, column, include_nulls)\u001b[0m\n\u001b[0;32m   1991\u001b[0m new_features \u001b[38;5;241m=\u001b[39m dset\u001b[38;5;241m.\u001b[39mfeatures\u001b[38;5;241m.\u001b[39mcopy()\n\u001b[0;32m   1992\u001b[0m new_features[column] \u001b[38;5;241m=\u001b[39m dst_feat\n\u001b[1;32m-> 1994\u001b[0m dset \u001b[38;5;241m=\u001b[39m \u001b[43mdset\u001b[49m\u001b[38;5;241;43m.\u001b[39;49m\u001b[43mmap\u001b[49m\u001b[43m(\u001b[49m\n\u001b[0;32m   1995\u001b[0m \u001b[43m    \u001b[49m\u001b[43mcast_to_class_labels\u001b[49m\u001b[43m,\u001b[49m\n\u001b[0;32m   1996\u001b[0m \u001b[43m    \u001b[49m\u001b[43mbatched\u001b[49m\u001b[38;5;241;43m=\u001b[39;49m\u001b[38;5;28;43;01mTrue\u001b[39;49;00m\u001b[43m,\u001b[49m\n\u001b[0;32m   1997\u001b[0m \u001b[43m    \u001b[49m\u001b[43mfeatures\u001b[49m\u001b[38;5;241;43m=\u001b[39;49m\u001b[43mnew_features\u001b[49m\u001b[43m,\u001b[49m\n\u001b[0;32m   1998\u001b[0m \u001b[43m    \u001b[49m\u001b[43mdesc\u001b[49m\u001b[38;5;241;43m=\u001b[39;49m\u001b[38;5;124;43m\"\u001b[39;49m\u001b[38;5;124;43mCasting to class labels\u001b[39;49m\u001b[38;5;124;43m\"\u001b[39;49m\u001b[43m,\u001b[49m\n\u001b[0;32m   1999\u001b[0m \u001b[43m\u001b[49m\u001b[43m)\u001b[49m\n\u001b[0;32m   2001\u001b[0m \u001b[38;5;28;01mreturn\u001b[39;00m dset\n",
      "File \u001b[1;32mC:\\anaconda\\envs\\7_sentiment\\Lib\\site-packages\\datasets\\arrow_dataset.py:602\u001b[0m, in \u001b[0;36mtransmit_tasks.<locals>.wrapper\u001b[1;34m(*args, **kwargs)\u001b[0m\n\u001b[0;32m    600\u001b[0m     \u001b[38;5;28mself\u001b[39m: \u001b[38;5;124m\"\u001b[39m\u001b[38;5;124mDataset\u001b[39m\u001b[38;5;124m\"\u001b[39m \u001b[38;5;241m=\u001b[39m kwargs\u001b[38;5;241m.\u001b[39mpop(\u001b[38;5;124m\"\u001b[39m\u001b[38;5;124mself\u001b[39m\u001b[38;5;124m\"\u001b[39m)\n\u001b[0;32m    601\u001b[0m \u001b[38;5;66;03m# apply actual function\u001b[39;00m\n\u001b[1;32m--> 602\u001b[0m out: Union[\u001b[38;5;124m\"\u001b[39m\u001b[38;5;124mDataset\u001b[39m\u001b[38;5;124m\"\u001b[39m, \u001b[38;5;124m\"\u001b[39m\u001b[38;5;124mDatasetDict\u001b[39m\u001b[38;5;124m\"\u001b[39m] \u001b[38;5;241m=\u001b[39m \u001b[43mfunc\u001b[49m\u001b[43m(\u001b[49m\u001b[38;5;28;43mself\u001b[39;49m\u001b[43m,\u001b[49m\u001b[43m \u001b[49m\u001b[38;5;241;43m*\u001b[39;49m\u001b[43margs\u001b[49m\u001b[43m,\u001b[49m\u001b[43m \u001b[49m\u001b[38;5;241;43m*\u001b[39;49m\u001b[38;5;241;43m*\u001b[39;49m\u001b[43mkwargs\u001b[49m\u001b[43m)\u001b[49m\n\u001b[0;32m    603\u001b[0m datasets: List[\u001b[38;5;124m\"\u001b[39m\u001b[38;5;124mDataset\u001b[39m\u001b[38;5;124m\"\u001b[39m] \u001b[38;5;241m=\u001b[39m \u001b[38;5;28mlist\u001b[39m(out\u001b[38;5;241m.\u001b[39mvalues()) \u001b[38;5;28;01mif\u001b[39;00m \u001b[38;5;28misinstance\u001b[39m(out, \u001b[38;5;28mdict\u001b[39m) \u001b[38;5;28;01melse\u001b[39;00m [out]\n\u001b[0;32m    604\u001b[0m \u001b[38;5;28;01mfor\u001b[39;00m dataset \u001b[38;5;129;01min\u001b[39;00m datasets:\n\u001b[0;32m    605\u001b[0m     \u001b[38;5;66;03m# Remove task templates if a column mapping of the template is no longer valid\u001b[39;00m\n",
      "File \u001b[1;32mC:\\anaconda\\envs\\7_sentiment\\Lib\\site-packages\\datasets\\arrow_dataset.py:567\u001b[0m, in \u001b[0;36mtransmit_format.<locals>.wrapper\u001b[1;34m(*args, **kwargs)\u001b[0m\n\u001b[0;32m    560\u001b[0m self_format \u001b[38;5;241m=\u001b[39m {\n\u001b[0;32m    561\u001b[0m     \u001b[38;5;124m\"\u001b[39m\u001b[38;5;124mtype\u001b[39m\u001b[38;5;124m\"\u001b[39m: \u001b[38;5;28mself\u001b[39m\u001b[38;5;241m.\u001b[39m_format_type,\n\u001b[0;32m    562\u001b[0m     \u001b[38;5;124m\"\u001b[39m\u001b[38;5;124mformat_kwargs\u001b[39m\u001b[38;5;124m\"\u001b[39m: \u001b[38;5;28mself\u001b[39m\u001b[38;5;241m.\u001b[39m_format_kwargs,\n\u001b[0;32m    563\u001b[0m     \u001b[38;5;124m\"\u001b[39m\u001b[38;5;124mcolumns\u001b[39m\u001b[38;5;124m\"\u001b[39m: \u001b[38;5;28mself\u001b[39m\u001b[38;5;241m.\u001b[39m_format_columns,\n\u001b[0;32m    564\u001b[0m     \u001b[38;5;124m\"\u001b[39m\u001b[38;5;124moutput_all_columns\u001b[39m\u001b[38;5;124m\"\u001b[39m: \u001b[38;5;28mself\u001b[39m\u001b[38;5;241m.\u001b[39m_output_all_columns,\n\u001b[0;32m    565\u001b[0m }\n\u001b[0;32m    566\u001b[0m \u001b[38;5;66;03m# apply actual function\u001b[39;00m\n\u001b[1;32m--> 567\u001b[0m out: Union[\u001b[38;5;124m\"\u001b[39m\u001b[38;5;124mDataset\u001b[39m\u001b[38;5;124m\"\u001b[39m, \u001b[38;5;124m\"\u001b[39m\u001b[38;5;124mDatasetDict\u001b[39m\u001b[38;5;124m\"\u001b[39m] \u001b[38;5;241m=\u001b[39m \u001b[43mfunc\u001b[49m\u001b[43m(\u001b[49m\u001b[38;5;28;43mself\u001b[39;49m\u001b[43m,\u001b[49m\u001b[43m \u001b[49m\u001b[38;5;241;43m*\u001b[39;49m\u001b[43margs\u001b[49m\u001b[43m,\u001b[49m\u001b[43m \u001b[49m\u001b[38;5;241;43m*\u001b[39;49m\u001b[38;5;241;43m*\u001b[39;49m\u001b[43mkwargs\u001b[49m\u001b[43m)\u001b[49m\n\u001b[0;32m    568\u001b[0m datasets: List[\u001b[38;5;124m\"\u001b[39m\u001b[38;5;124mDataset\u001b[39m\u001b[38;5;124m\"\u001b[39m] \u001b[38;5;241m=\u001b[39m \u001b[38;5;28mlist\u001b[39m(out\u001b[38;5;241m.\u001b[39mvalues()) \u001b[38;5;28;01mif\u001b[39;00m \u001b[38;5;28misinstance\u001b[39m(out, \u001b[38;5;28mdict\u001b[39m) \u001b[38;5;28;01melse\u001b[39;00m [out]\n\u001b[0;32m    569\u001b[0m \u001b[38;5;66;03m# re-apply format to the output\u001b[39;00m\n",
      "File \u001b[1;32mC:\\anaconda\\envs\\7_sentiment\\Lib\\site-packages\\datasets\\arrow_dataset.py:3161\u001b[0m, in \u001b[0;36mDataset.map\u001b[1;34m(self, function, with_indices, with_rank, input_columns, batched, batch_size, drop_last_batch, remove_columns, keep_in_memory, load_from_cache_file, cache_file_name, writer_batch_size, features, disable_nullable, fn_kwargs, num_proc, suffix_template, new_fingerprint, desc)\u001b[0m\n\u001b[0;32m   3155\u001b[0m \u001b[38;5;28;01mif\u001b[39;00m transformed_dataset \u001b[38;5;129;01mis\u001b[39;00m \u001b[38;5;28;01mNone\u001b[39;00m:\n\u001b[0;32m   3156\u001b[0m     \u001b[38;5;28;01mwith\u001b[39;00m hf_tqdm(\n\u001b[0;32m   3157\u001b[0m         unit\u001b[38;5;241m=\u001b[39m\u001b[38;5;124m\"\u001b[39m\u001b[38;5;124m examples\u001b[39m\u001b[38;5;124m\"\u001b[39m,\n\u001b[0;32m   3158\u001b[0m         total\u001b[38;5;241m=\u001b[39mpbar_total,\n\u001b[0;32m   3159\u001b[0m         desc\u001b[38;5;241m=\u001b[39mdesc \u001b[38;5;129;01mor\u001b[39;00m \u001b[38;5;124m\"\u001b[39m\u001b[38;5;124mMap\u001b[39m\u001b[38;5;124m\"\u001b[39m,\n\u001b[0;32m   3160\u001b[0m     ) \u001b[38;5;28;01mas\u001b[39;00m pbar:\n\u001b[1;32m-> 3161\u001b[0m         \u001b[38;5;28;01mfor\u001b[39;00m rank, done, content \u001b[38;5;129;01min\u001b[39;00m Dataset\u001b[38;5;241m.\u001b[39m_map_single(\u001b[38;5;241m*\u001b[39m\u001b[38;5;241m*\u001b[39mdataset_kwargs):\n\u001b[0;32m   3162\u001b[0m             \u001b[38;5;28;01mif\u001b[39;00m done:\n\u001b[0;32m   3163\u001b[0m                 shards_done \u001b[38;5;241m+\u001b[39m\u001b[38;5;241m=\u001b[39m \u001b[38;5;241m1\u001b[39m\n",
      "File \u001b[1;32mC:\\anaconda\\envs\\7_sentiment\\Lib\\site-packages\\datasets\\arrow_dataset.py:3575\u001b[0m, in \u001b[0;36mDataset._map_single\u001b[1;34m(shard, function, with_indices, with_rank, input_columns, batched, batch_size, drop_last_batch, remove_columns, keep_in_memory, cache_file_name, writer_batch_size, features, disable_nullable, fn_kwargs, new_fingerprint, rank, offset)\u001b[0m\n\u001b[0;32m   3573\u001b[0m         writer\u001b[38;5;241m.\u001b[39mwrite_table(batch\u001b[38;5;241m.\u001b[39mto_arrow())\n\u001b[0;32m   3574\u001b[0m     \u001b[38;5;28;01melse\u001b[39;00m:\n\u001b[1;32m-> 3575\u001b[0m         \u001b[43mwriter\u001b[49m\u001b[38;5;241;43m.\u001b[39;49m\u001b[43mwrite_batch\u001b[49m\u001b[43m(\u001b[49m\u001b[43mbatch\u001b[49m\u001b[43m)\u001b[49m\n\u001b[0;32m   3576\u001b[0m num_examples_progress_update \u001b[38;5;241m+\u001b[39m\u001b[38;5;241m=\u001b[39m num_examples_in_batch\n\u001b[0;32m   3577\u001b[0m \u001b[38;5;28;01mif\u001b[39;00m time\u001b[38;5;241m.\u001b[39mtime() \u001b[38;5;241m>\u001b[39m _time \u001b[38;5;241m+\u001b[39m config\u001b[38;5;241m.\u001b[39mPBAR_REFRESH_TIME_INTERVAL:\n",
      "File \u001b[1;32mC:\\anaconda\\envs\\7_sentiment\\Lib\\site-packages\\datasets\\arrow_writer.py:572\u001b[0m, in \u001b[0;36mArrowWriter.write_batch\u001b[1;34m(self, batch_examples, writer_batch_size)\u001b[0m\n\u001b[0;32m    570\u001b[0m schema \u001b[38;5;241m=\u001b[39m inferred_features\u001b[38;5;241m.\u001b[39marrow_schema \u001b[38;5;28;01mif\u001b[39;00m \u001b[38;5;28mself\u001b[39m\u001b[38;5;241m.\u001b[39mpa_writer \u001b[38;5;129;01mis\u001b[39;00m \u001b[38;5;28;01mNone\u001b[39;00m \u001b[38;5;28;01melse\u001b[39;00m \u001b[38;5;28mself\u001b[39m\u001b[38;5;241m.\u001b[39mschema\n\u001b[0;32m    571\u001b[0m pa_table \u001b[38;5;241m=\u001b[39m pa\u001b[38;5;241m.\u001b[39mTable\u001b[38;5;241m.\u001b[39mfrom_arrays(arrays, schema\u001b[38;5;241m=\u001b[39mschema)\n\u001b[1;32m--> 572\u001b[0m \u001b[38;5;28;43mself\u001b[39;49m\u001b[38;5;241;43m.\u001b[39;49m\u001b[43mwrite_table\u001b[49m\u001b[43m(\u001b[49m\u001b[43mpa_table\u001b[49m\u001b[43m,\u001b[49m\u001b[43m \u001b[49m\u001b[43mwriter_batch_size\u001b[49m\u001b[43m)\u001b[49m\n",
      "File \u001b[1;32mC:\\anaconda\\envs\\7_sentiment\\Lib\\site-packages\\datasets\\arrow_writer.py:590\u001b[0m, in \u001b[0;36mArrowWriter.write_table\u001b[1;34m(self, pa_table, writer_batch_size)\u001b[0m\n\u001b[0;32m    588\u001b[0m \u001b[38;5;28mself\u001b[39m\u001b[38;5;241m.\u001b[39m_num_bytes \u001b[38;5;241m+\u001b[39m\u001b[38;5;241m=\u001b[39m pa_table\u001b[38;5;241m.\u001b[39mnbytes\n\u001b[0;32m    589\u001b[0m \u001b[38;5;28mself\u001b[39m\u001b[38;5;241m.\u001b[39m_num_examples \u001b[38;5;241m+\u001b[39m\u001b[38;5;241m=\u001b[39m pa_table\u001b[38;5;241m.\u001b[39mnum_rows\n\u001b[1;32m--> 590\u001b[0m \u001b[38;5;28;43mself\u001b[39;49m\u001b[38;5;241;43m.\u001b[39;49m\u001b[43mpa_writer\u001b[49m\u001b[38;5;241;43m.\u001b[39;49m\u001b[43mwrite_table\u001b[49m\u001b[43m(\u001b[49m\u001b[43mpa_table\u001b[49m\u001b[43m,\u001b[49m\u001b[43m \u001b[49m\u001b[43mwriter_batch_size\u001b[49m\u001b[43m)\u001b[49m\n",
      "File \u001b[1;32mC:\\anaconda\\envs\\7_sentiment\\Lib\\site-packages\\pyarrow\\ipc.pxi:529\u001b[0m, in \u001b[0;36mpyarrow.lib._CRecordBatchWriter.write_table\u001b[1;34m()\u001b[0m\n",
      "File \u001b[1;32mC:\\anaconda\\envs\\7_sentiment\\Lib\\site-packages\\pyarrow\\error.pxi:91\u001b[0m, in \u001b[0;36mpyarrow.lib.check_status\u001b[1;34m()\u001b[0m\n",
      "\u001b[1;31mArrowMemoryError\u001b[0m: realloc of size 268435456 failed"
     ]
    }
   ],
   "source": [
    "from transformers import AutoTokenizer\n",
    "\n",
    "import evaluate\n",
    "from transformers import TrainingArguments\n",
    "from transformers import AutoModelForSequenceClassification\n",
    "from transformers import Trainer\n",
    "\n",
    "from datasets import Dataset, load_dataset\n",
    "\n",
    "model_config = {\n",
    "                'model_type': 'BERT',\n",
    "                'preprocessing': \"google_bert_bert_base_cased\",\n",
    "                'pre_trained_embeddings' :  \"aucun\",\n",
    "                'n_sample' : 80000,\n",
    "                'l_r' : 0.00005,\n",
    "                }\n",
    "\n",
    "df_sample = df.sample(n=model_config['n_sample'], random_state=42)\n",
    "\n",
    "df_sample = df_sample[['labels','text']]\n",
    "\n",
    "df_sample_train, df_sample_test = train_test_split(df_sample, test_size=0.2, random_state=42)\n",
    "\n",
    "ds_train = Dataset.from_pandas(df_sample_train,preserve_index=False)\n",
    "ds_test = Dataset.from_pandas(df_sample_test,preserve_index=False)\n",
    "\n",
    "tokenizer = AutoTokenizer.from_pretrained(\"google-bert/bert-base-cased\")\n",
    "\n",
    "# def compute_custom_metrics(pred):\n",
    "#     labels = pred.label_ids\n",
    "#     preds = pred.predictions.argmax(-1)\n",
    "#     \n",
    "#     accuracy = accuracy_score(labels, preds)\n",
    "#     area = roc_auc_score(labels, preds)\n",
    "# \n",
    "#     \n",
    "#     return {\n",
    "#         'Test Accuracy': accuracy,\n",
    "#         'Test Auc': area,\n",
    "# \n",
    "#     }\n",
    "\n",
    "\n",
    "def tokenize_function(examples):\n",
    "    return tokenizer(examples[\"text\"], padding=\"max_length\", truncation=True)\n",
    "\n",
    "\n",
    "small_train_dataset = ds_train.map(tokenize_function, batched=True)\n",
    "small_train_dataset = small_train_dataset.class_encode_column(\"labels\")\n",
    "small_eval_dataset = ds_test.map(tokenize_function, batched=True)\n",
    "small_eval_dataset = small_eval_dataset.class_encode_column(\"labels\")\n",
    "\n",
    "\n",
    "model = AutoModelForSequenceClassification.from_pretrained(\"google-bert/bert-base-cased\", num_labels=2)\n",
    "\n",
    "\n",
    "training_args = TrainingArguments(learning_rate=model_config['l_r'],\n",
    "                                  output_dir=\"test_trainer\")\n",
    "\n",
    "os.environ['DISABLE_MLFLOW_INTEGRATION'] = 'TRUE'\n",
    "\n",
    "\n",
    "# training_args = TrainingArguments(output_dir=\"test_trainer\", eval_strategy=\"epoch\",logging_steps=150)\n",
    "training_args = TrainingArguments(output_dir=\"test_trainer\", eval_strategy=\"epoch\")\n",
    "\n",
    "trainer = Trainer(\n",
    "    model=model,\n",
    "    args=training_args,\n",
    "    train_dataset=small_train_dataset,\n",
    "    eval_dataset=small_eval_dataset    \n",
    ")\n",
    "\n",
    "with mlflow.start_run(run_name=model_config['model_type'] + '_' + model_config['preprocessing'] + '_' + model_config['pre_trained_embeddings']):\n",
    "\n",
    "  #  trainer.train(resume_from_checkpoint=\"test_trainer/checkpoint-13000\")\n",
    "    trainer.train()    \n",
    "\n",
    "    \n",
    "    # Evaluate the model\n",
    "    # results = trainer.evaluate(small_eval_dataset)\n",
    "    \n",
    "    predictions = trainer.predict(small_eval_dataset)\n",
    "    y_pred = predictions.predictions.argmax(-1)\n",
    "    predicted_probs = tf.math.softmax(predictions.predictions, axis=-1)    \n",
    "    \n",
    "    # Calculate sklearn metrics\n",
    "    accuracy = accuracy_score(y_test, y_pred)\n",
    "    auc = roc_auc_score(y_test, predicted_probs[:, 1])\n",
    "\n",
    "    # Log metrics\n",
    "    mlflow.pytorch.log_model(model, \"model\")        \n",
    "    mlflow.log_metric(\"Test Accuracy\", accuracy)\n",
    "    mlflow.log_metric(\"Test Auc\", auc)\n",
    "    mlflow.log_params(model_config)  # Log model configuration\n",
    "\n",
    "\n",
    "\n",
    "\n",
    "\n"
   ]
  },
  {
   "cell_type": "code",
   "execution_count": null,
   "id": "64782c0d",
   "metadata": {},
   "outputs": [],
   "source": []
  },
  {
   "cell_type": "markdown",
   "id": "a1438f42",
   "metadata": {},
   "source": [
    "# essai avec huggin for tensorflow\n",
    "\n",
    "Incompatibilité avec les bibliothèques de metrics keras. Seul 'accuracy' fonctionne. 'auc' ne fonctionne pas tf.keras.metrics.AUC() non plus."
   ]
  },
  {
   "cell_type": "code",
   "execution_count": 5,
   "id": "9f9a1118",
   "metadata": {},
   "outputs": [
    {
     "name": "stdout",
     "output_type": "stream",
     "text": [
      "WARNING:tensorflow:From C:\\anaconda\\envs\\7_sentiment\\Lib\\site-packages\\tf_keras\\src\\losses.py:2976: The name tf.losses.sparse_softmax_cross_entropy is deprecated. Please use tf.compat.v1.losses.sparse_softmax_cross_entropy instead.\n",
      "\n",
      "WARNING:tensorflow:From C:\\anaconda\\envs\\7_sentiment\\Lib\\site-packages\\tf_keras\\src\\backend.py:873: The name tf.get_default_graph is deprecated. Please use tf.compat.v1.get_default_graph instead.\n",
      "\n"
     ]
    },
    {
     "name": "stderr",
     "output_type": "stream",
     "text": [
      "All PyTorch model weights were used when initializing TFBertForSequenceClassification.\n",
      "\n",
      "Some weights or buffers of the TF 2.0 model TFBertForSequenceClassification were not initialized from the PyTorch model and are newly initialized: ['classifier.weight', 'classifier.bias']\n",
      "You should probably TRAIN this model on a down-stream task to be able to use it for predictions and inference.\n"
     ]
    },
    {
     "name": "stdout",
     "output_type": "stream",
     "text": [
      "WARNING:tensorflow:From C:\\anaconda\\envs\\7_sentiment\\Lib\\site-packages\\tf_keras\\src\\utils\\tf_utils.py:492: The name tf.ragged.RaggedTensorValue is deprecated. Please use tf.compat.v1.ragged.RaggedTensorValue instead.\n",
      "\n",
      "WARNING:tensorflow:From C:\\anaconda\\envs\\7_sentiment\\Lib\\site-packages\\tf_keras\\src\\engine\\base_layer_utils.py:384: The name tf.executing_eagerly_outside_functions is deprecated. Please use tf.compat.v1.executing_eagerly_outside_functions instead.\n",
      "\n",
      "   3/5000 [..............................] - ETA: 139:56:23 - loss: 0.7048 - accuracy: 0.4896"
     ]
    },
    {
     "ename": "KeyboardInterrupt",
     "evalue": "",
     "output_type": "error",
     "traceback": [
      "\u001b[1;31m---------------------------------------------------------------------------\u001b[0m",
      "\u001b[1;31mKeyboardInterrupt\u001b[0m                         Traceback (most recent call last)",
      "Cell \u001b[1;32mIn[5], line 47\u001b[0m\n\u001b[0;32m     44\u001b[0m model \u001b[38;5;241m=\u001b[39m TFAutoModelForSequenceClassification\u001b[38;5;241m.\u001b[39mfrom_pretrained(model_config[\u001b[38;5;124m'\u001b[39m\u001b[38;5;124mpreprocessing\u001b[39m\u001b[38;5;124m'\u001b[39m])\n\u001b[0;32m     45\u001b[0m model\u001b[38;5;241m.\u001b[39mcompile(optimizer\u001b[38;5;241m=\u001b[39mtf\u001b[38;5;241m.\u001b[39moptimizers\u001b[38;5;241m.\u001b[39mAdam(learning_rate\u001b[38;5;241m=\u001b[39mmodel_config[\u001b[38;5;124m'\u001b[39m\u001b[38;5;124ml_r\u001b[39m\u001b[38;5;124m'\u001b[39m]),\n\u001b[0;32m     46\u001b[0m               metrics\u001b[38;5;241m=\u001b[39m[\u001b[38;5;124m'\u001b[39m\u001b[38;5;124maccuracy\u001b[39m\u001b[38;5;124m'\u001b[39m])\n\u001b[1;32m---> 47\u001b[0m \u001b[43mmodel\u001b[49m\u001b[38;5;241;43m.\u001b[39;49m\u001b[43mfit\u001b[49m\u001b[43m(\u001b[49m\u001b[43mtokenized_data_train\u001b[49m\u001b[43m,\u001b[49m\u001b[43m \u001b[49m\u001b[43my_train\u001b[49m\u001b[43m)\u001b[49m\n\u001b[0;32m     49\u001b[0m \u001b[38;5;66;03m# Make predictions on the test data\u001b[39;00m\n\u001b[0;32m     50\u001b[0m predictions \u001b[38;5;241m=\u001b[39m model\u001b[38;5;241m.\u001b[39mpredict(tokenized_data_test)\n",
      "File \u001b[1;32mC:\\anaconda\\envs\\7_sentiment\\Lib\\site-packages\\transformers\\modeling_tf_utils.py:1229\u001b[0m, in \u001b[0;36mTFPreTrainedModel.fit\u001b[1;34m(self, *args, **kwargs)\u001b[0m\n\u001b[0;32m   1226\u001b[0m \u001b[38;5;129m@functools\u001b[39m\u001b[38;5;241m.\u001b[39mwraps(keras\u001b[38;5;241m.\u001b[39mModel\u001b[38;5;241m.\u001b[39mfit)\n\u001b[0;32m   1227\u001b[0m \u001b[38;5;28;01mdef\u001b[39;00m \u001b[38;5;21mfit\u001b[39m(\u001b[38;5;28mself\u001b[39m, \u001b[38;5;241m*\u001b[39margs, \u001b[38;5;241m*\u001b[39m\u001b[38;5;241m*\u001b[39mkwargs):\n\u001b[0;32m   1228\u001b[0m     args, kwargs \u001b[38;5;241m=\u001b[39m convert_batch_encoding(\u001b[38;5;241m*\u001b[39margs, \u001b[38;5;241m*\u001b[39m\u001b[38;5;241m*\u001b[39mkwargs)\n\u001b[1;32m-> 1229\u001b[0m     \u001b[38;5;28;01mreturn\u001b[39;00m \u001b[38;5;28;43msuper\u001b[39;49m\u001b[43m(\u001b[49m\u001b[43m)\u001b[49m\u001b[38;5;241;43m.\u001b[39;49m\u001b[43mfit\u001b[49m\u001b[43m(\u001b[49m\u001b[38;5;241;43m*\u001b[39;49m\u001b[43margs\u001b[49m\u001b[43m,\u001b[49m\u001b[43m \u001b[49m\u001b[38;5;241;43m*\u001b[39;49m\u001b[38;5;241;43m*\u001b[39;49m\u001b[43mkwargs\u001b[49m\u001b[43m)\u001b[49m\n",
      "File \u001b[1;32mC:\\anaconda\\envs\\7_sentiment\\Lib\\site-packages\\tf_keras\\src\\utils\\traceback_utils.py:65\u001b[0m, in \u001b[0;36mfilter_traceback.<locals>.error_handler\u001b[1;34m(*args, **kwargs)\u001b[0m\n\u001b[0;32m     63\u001b[0m filtered_tb \u001b[38;5;241m=\u001b[39m \u001b[38;5;28;01mNone\u001b[39;00m\n\u001b[0;32m     64\u001b[0m \u001b[38;5;28;01mtry\u001b[39;00m:\n\u001b[1;32m---> 65\u001b[0m     \u001b[38;5;28;01mreturn\u001b[39;00m \u001b[43mfn\u001b[49m\u001b[43m(\u001b[49m\u001b[38;5;241;43m*\u001b[39;49m\u001b[43margs\u001b[49m\u001b[43m,\u001b[49m\u001b[43m \u001b[49m\u001b[38;5;241;43m*\u001b[39;49m\u001b[38;5;241;43m*\u001b[39;49m\u001b[43mkwargs\u001b[49m\u001b[43m)\u001b[49m\n\u001b[0;32m     66\u001b[0m \u001b[38;5;28;01mexcept\u001b[39;00m \u001b[38;5;167;01mException\u001b[39;00m \u001b[38;5;28;01mas\u001b[39;00m e:\n\u001b[0;32m     67\u001b[0m     filtered_tb \u001b[38;5;241m=\u001b[39m _process_traceback_frames(e\u001b[38;5;241m.\u001b[39m__traceback__)\n",
      "File \u001b[1;32mC:\\anaconda\\envs\\7_sentiment\\Lib\\site-packages\\tf_keras\\src\\engine\\training.py:1804\u001b[0m, in \u001b[0;36mModel.fit\u001b[1;34m(self, x, y, batch_size, epochs, verbose, callbacks, validation_split, validation_data, shuffle, class_weight, sample_weight, initial_epoch, steps_per_epoch, validation_steps, validation_batch_size, validation_freq, max_queue_size, workers, use_multiprocessing)\u001b[0m\n\u001b[0;32m   1796\u001b[0m \u001b[38;5;28;01mwith\u001b[39;00m tf\u001b[38;5;241m.\u001b[39mprofiler\u001b[38;5;241m.\u001b[39mexperimental\u001b[38;5;241m.\u001b[39mTrace(\n\u001b[0;32m   1797\u001b[0m     \u001b[38;5;124m\"\u001b[39m\u001b[38;5;124mtrain\u001b[39m\u001b[38;5;124m\"\u001b[39m,\n\u001b[0;32m   1798\u001b[0m     epoch_num\u001b[38;5;241m=\u001b[39mepoch,\n\u001b[1;32m   (...)\u001b[0m\n\u001b[0;32m   1801\u001b[0m     _r\u001b[38;5;241m=\u001b[39m\u001b[38;5;241m1\u001b[39m,\n\u001b[0;32m   1802\u001b[0m ):\n\u001b[0;32m   1803\u001b[0m     callbacks\u001b[38;5;241m.\u001b[39mon_train_batch_begin(step)\n\u001b[1;32m-> 1804\u001b[0m     tmp_logs \u001b[38;5;241m=\u001b[39m \u001b[38;5;28;43mself\u001b[39;49m\u001b[38;5;241;43m.\u001b[39;49m\u001b[43mtrain_function\u001b[49m\u001b[43m(\u001b[49m\u001b[43miterator\u001b[49m\u001b[43m)\u001b[49m\n\u001b[0;32m   1805\u001b[0m     \u001b[38;5;28;01mif\u001b[39;00m data_handler\u001b[38;5;241m.\u001b[39mshould_sync:\n\u001b[0;32m   1806\u001b[0m         context\u001b[38;5;241m.\u001b[39masync_wait()\n",
      "File \u001b[1;32mC:\\anaconda\\envs\\7_sentiment\\Lib\\site-packages\\tensorflow\\python\\util\\traceback_utils.py:150\u001b[0m, in \u001b[0;36mfilter_traceback.<locals>.error_handler\u001b[1;34m(*args, **kwargs)\u001b[0m\n\u001b[0;32m    148\u001b[0m filtered_tb \u001b[38;5;241m=\u001b[39m \u001b[38;5;28;01mNone\u001b[39;00m\n\u001b[0;32m    149\u001b[0m \u001b[38;5;28;01mtry\u001b[39;00m:\n\u001b[1;32m--> 150\u001b[0m   \u001b[38;5;28;01mreturn\u001b[39;00m \u001b[43mfn\u001b[49m\u001b[43m(\u001b[49m\u001b[38;5;241;43m*\u001b[39;49m\u001b[43margs\u001b[49m\u001b[43m,\u001b[49m\u001b[43m \u001b[49m\u001b[38;5;241;43m*\u001b[39;49m\u001b[38;5;241;43m*\u001b[39;49m\u001b[43mkwargs\u001b[49m\u001b[43m)\u001b[49m\n\u001b[0;32m    151\u001b[0m \u001b[38;5;28;01mexcept\u001b[39;00m \u001b[38;5;167;01mException\u001b[39;00m \u001b[38;5;28;01mas\u001b[39;00m e:\n\u001b[0;32m    152\u001b[0m   filtered_tb \u001b[38;5;241m=\u001b[39m _process_traceback_frames(e\u001b[38;5;241m.\u001b[39m__traceback__)\n",
      "File \u001b[1;32mC:\\anaconda\\envs\\7_sentiment\\Lib\\site-packages\\tensorflow\\python\\eager\\polymorphic_function\\polymorphic_function.py:833\u001b[0m, in \u001b[0;36mFunction.__call__\u001b[1;34m(self, *args, **kwds)\u001b[0m\n\u001b[0;32m    830\u001b[0m compiler \u001b[38;5;241m=\u001b[39m \u001b[38;5;124m\"\u001b[39m\u001b[38;5;124mxla\u001b[39m\u001b[38;5;124m\"\u001b[39m \u001b[38;5;28;01mif\u001b[39;00m \u001b[38;5;28mself\u001b[39m\u001b[38;5;241m.\u001b[39m_jit_compile \u001b[38;5;28;01melse\u001b[39;00m \u001b[38;5;124m\"\u001b[39m\u001b[38;5;124mnonXla\u001b[39m\u001b[38;5;124m\"\u001b[39m\n\u001b[0;32m    832\u001b[0m \u001b[38;5;28;01mwith\u001b[39;00m OptionalXlaContext(\u001b[38;5;28mself\u001b[39m\u001b[38;5;241m.\u001b[39m_jit_compile):\n\u001b[1;32m--> 833\u001b[0m   result \u001b[38;5;241m=\u001b[39m \u001b[38;5;28;43mself\u001b[39;49m\u001b[38;5;241;43m.\u001b[39;49m\u001b[43m_call\u001b[49m\u001b[43m(\u001b[49m\u001b[38;5;241;43m*\u001b[39;49m\u001b[43margs\u001b[49m\u001b[43m,\u001b[49m\u001b[43m \u001b[49m\u001b[38;5;241;43m*\u001b[39;49m\u001b[38;5;241;43m*\u001b[39;49m\u001b[43mkwds\u001b[49m\u001b[43m)\u001b[49m\n\u001b[0;32m    835\u001b[0m new_tracing_count \u001b[38;5;241m=\u001b[39m \u001b[38;5;28mself\u001b[39m\u001b[38;5;241m.\u001b[39mexperimental_get_tracing_count()\n\u001b[0;32m    836\u001b[0m without_tracing \u001b[38;5;241m=\u001b[39m (tracing_count \u001b[38;5;241m==\u001b[39m new_tracing_count)\n",
      "File \u001b[1;32mC:\\anaconda\\envs\\7_sentiment\\Lib\\site-packages\\tensorflow\\python\\eager\\polymorphic_function\\polymorphic_function.py:869\u001b[0m, in \u001b[0;36mFunction._call\u001b[1;34m(self, *args, **kwds)\u001b[0m\n\u001b[0;32m    866\u001b[0m   \u001b[38;5;28mself\u001b[39m\u001b[38;5;241m.\u001b[39m_lock\u001b[38;5;241m.\u001b[39mrelease()\n\u001b[0;32m    867\u001b[0m   \u001b[38;5;66;03m# In this case we have created variables on the first call, so we run the\u001b[39;00m\n\u001b[0;32m    868\u001b[0m   \u001b[38;5;66;03m# defunned version which is guaranteed to never create variables.\u001b[39;00m\n\u001b[1;32m--> 869\u001b[0m   \u001b[38;5;28;01mreturn\u001b[39;00m \u001b[43mtracing_compilation\u001b[49m\u001b[38;5;241;43m.\u001b[39;49m\u001b[43mcall_function\u001b[49m\u001b[43m(\u001b[49m\n\u001b[0;32m    870\u001b[0m \u001b[43m      \u001b[49m\u001b[43margs\u001b[49m\u001b[43m,\u001b[49m\u001b[43m \u001b[49m\u001b[43mkwds\u001b[49m\u001b[43m,\u001b[49m\u001b[43m \u001b[49m\u001b[38;5;28;43mself\u001b[39;49m\u001b[38;5;241;43m.\u001b[39;49m\u001b[43m_no_variable_creation_config\u001b[49m\n\u001b[0;32m    871\u001b[0m \u001b[43m  \u001b[49m\u001b[43m)\u001b[49m\n\u001b[0;32m    872\u001b[0m \u001b[38;5;28;01melif\u001b[39;00m \u001b[38;5;28mself\u001b[39m\u001b[38;5;241m.\u001b[39m_variable_creation_config \u001b[38;5;129;01mis\u001b[39;00m \u001b[38;5;129;01mnot\u001b[39;00m \u001b[38;5;28;01mNone\u001b[39;00m:\n\u001b[0;32m    873\u001b[0m   \u001b[38;5;66;03m# Release the lock early so that multiple threads can perform the call\u001b[39;00m\n\u001b[0;32m    874\u001b[0m   \u001b[38;5;66;03m# in parallel.\u001b[39;00m\n\u001b[0;32m    875\u001b[0m   \u001b[38;5;28mself\u001b[39m\u001b[38;5;241m.\u001b[39m_lock\u001b[38;5;241m.\u001b[39mrelease()\n",
      "File \u001b[1;32mC:\\anaconda\\envs\\7_sentiment\\Lib\\site-packages\\tensorflow\\python\\eager\\polymorphic_function\\tracing_compilation.py:139\u001b[0m, in \u001b[0;36mcall_function\u001b[1;34m(args, kwargs, tracing_options)\u001b[0m\n\u001b[0;32m    137\u001b[0m bound_args \u001b[38;5;241m=\u001b[39m function\u001b[38;5;241m.\u001b[39mfunction_type\u001b[38;5;241m.\u001b[39mbind(\u001b[38;5;241m*\u001b[39margs, \u001b[38;5;241m*\u001b[39m\u001b[38;5;241m*\u001b[39mkwargs)\n\u001b[0;32m    138\u001b[0m flat_inputs \u001b[38;5;241m=\u001b[39m function\u001b[38;5;241m.\u001b[39mfunction_type\u001b[38;5;241m.\u001b[39munpack_inputs(bound_args)\n\u001b[1;32m--> 139\u001b[0m \u001b[38;5;28;01mreturn\u001b[39;00m \u001b[43mfunction\u001b[49m\u001b[38;5;241;43m.\u001b[39;49m\u001b[43m_call_flat\u001b[49m\u001b[43m(\u001b[49m\u001b[43m  \u001b[49m\u001b[38;5;66;43;03m# pylint: disable=protected-access\u001b[39;49;00m\n\u001b[0;32m    140\u001b[0m \u001b[43m    \u001b[49m\u001b[43mflat_inputs\u001b[49m\u001b[43m,\u001b[49m\u001b[43m \u001b[49m\u001b[43mcaptured_inputs\u001b[49m\u001b[38;5;241;43m=\u001b[39;49m\u001b[43mfunction\u001b[49m\u001b[38;5;241;43m.\u001b[39;49m\u001b[43mcaptured_inputs\u001b[49m\n\u001b[0;32m    141\u001b[0m \u001b[43m\u001b[49m\u001b[43m)\u001b[49m\n",
      "File \u001b[1;32mC:\\anaconda\\envs\\7_sentiment\\Lib\\site-packages\\tensorflow\\python\\eager\\polymorphic_function\\concrete_function.py:1322\u001b[0m, in \u001b[0;36mConcreteFunction._call_flat\u001b[1;34m(self, tensor_inputs, captured_inputs)\u001b[0m\n\u001b[0;32m   1318\u001b[0m possible_gradient_type \u001b[38;5;241m=\u001b[39m gradients_util\u001b[38;5;241m.\u001b[39mPossibleTapeGradientTypes(args)\n\u001b[0;32m   1319\u001b[0m \u001b[38;5;28;01mif\u001b[39;00m (possible_gradient_type \u001b[38;5;241m==\u001b[39m gradients_util\u001b[38;5;241m.\u001b[39mPOSSIBLE_GRADIENT_TYPES_NONE\n\u001b[0;32m   1320\u001b[0m     \u001b[38;5;129;01mand\u001b[39;00m executing_eagerly):\n\u001b[0;32m   1321\u001b[0m   \u001b[38;5;66;03m# No tape is watching; skip to running the function.\u001b[39;00m\n\u001b[1;32m-> 1322\u001b[0m   \u001b[38;5;28;01mreturn\u001b[39;00m \u001b[38;5;28;43mself\u001b[39;49m\u001b[38;5;241;43m.\u001b[39;49m\u001b[43m_inference_function\u001b[49m\u001b[38;5;241;43m.\u001b[39;49m\u001b[43mcall_preflattened\u001b[49m\u001b[43m(\u001b[49m\u001b[43margs\u001b[49m\u001b[43m)\u001b[49m\n\u001b[0;32m   1323\u001b[0m forward_backward \u001b[38;5;241m=\u001b[39m \u001b[38;5;28mself\u001b[39m\u001b[38;5;241m.\u001b[39m_select_forward_and_backward_functions(\n\u001b[0;32m   1324\u001b[0m     args,\n\u001b[0;32m   1325\u001b[0m     possible_gradient_type,\n\u001b[0;32m   1326\u001b[0m     executing_eagerly)\n\u001b[0;32m   1327\u001b[0m forward_function, args_with_tangents \u001b[38;5;241m=\u001b[39m forward_backward\u001b[38;5;241m.\u001b[39mforward()\n",
      "File \u001b[1;32mC:\\anaconda\\envs\\7_sentiment\\Lib\\site-packages\\tensorflow\\python\\eager\\polymorphic_function\\atomic_function.py:216\u001b[0m, in \u001b[0;36mAtomicFunction.call_preflattened\u001b[1;34m(self, args)\u001b[0m\n\u001b[0;32m    214\u001b[0m \u001b[38;5;28;01mdef\u001b[39;00m \u001b[38;5;21mcall_preflattened\u001b[39m(\u001b[38;5;28mself\u001b[39m, args: Sequence[core\u001b[38;5;241m.\u001b[39mTensor]) \u001b[38;5;241m-\u001b[39m\u001b[38;5;241m>\u001b[39m Any:\n\u001b[0;32m    215\u001b[0m \u001b[38;5;250m  \u001b[39m\u001b[38;5;124;03m\"\"\"Calls with flattened tensor inputs and returns the structured output.\"\"\"\u001b[39;00m\n\u001b[1;32m--> 216\u001b[0m   flat_outputs \u001b[38;5;241m=\u001b[39m \u001b[38;5;28;43mself\u001b[39;49m\u001b[38;5;241;43m.\u001b[39;49m\u001b[43mcall_flat\u001b[49m\u001b[43m(\u001b[49m\u001b[38;5;241;43m*\u001b[39;49m\u001b[43margs\u001b[49m\u001b[43m)\u001b[49m\n\u001b[0;32m    217\u001b[0m   \u001b[38;5;28;01mreturn\u001b[39;00m \u001b[38;5;28mself\u001b[39m\u001b[38;5;241m.\u001b[39mfunction_type\u001b[38;5;241m.\u001b[39mpack_output(flat_outputs)\n",
      "File \u001b[1;32mC:\\anaconda\\envs\\7_sentiment\\Lib\\site-packages\\tensorflow\\python\\eager\\polymorphic_function\\atomic_function.py:251\u001b[0m, in \u001b[0;36mAtomicFunction.call_flat\u001b[1;34m(self, *args)\u001b[0m\n\u001b[0;32m    249\u001b[0m \u001b[38;5;28;01mwith\u001b[39;00m record\u001b[38;5;241m.\u001b[39mstop_recording():\n\u001b[0;32m    250\u001b[0m   \u001b[38;5;28;01mif\u001b[39;00m \u001b[38;5;28mself\u001b[39m\u001b[38;5;241m.\u001b[39m_bound_context\u001b[38;5;241m.\u001b[39mexecuting_eagerly():\n\u001b[1;32m--> 251\u001b[0m     outputs \u001b[38;5;241m=\u001b[39m \u001b[38;5;28;43mself\u001b[39;49m\u001b[38;5;241;43m.\u001b[39;49m\u001b[43m_bound_context\u001b[49m\u001b[38;5;241;43m.\u001b[39;49m\u001b[43mcall_function\u001b[49m\u001b[43m(\u001b[49m\n\u001b[0;32m    252\u001b[0m \u001b[43m        \u001b[49m\u001b[38;5;28;43mself\u001b[39;49m\u001b[38;5;241;43m.\u001b[39;49m\u001b[43mname\u001b[49m\u001b[43m,\u001b[49m\n\u001b[0;32m    253\u001b[0m \u001b[43m        \u001b[49m\u001b[38;5;28;43mlist\u001b[39;49m\u001b[43m(\u001b[49m\u001b[43margs\u001b[49m\u001b[43m)\u001b[49m\u001b[43m,\u001b[49m\n\u001b[0;32m    254\u001b[0m \u001b[43m        \u001b[49m\u001b[38;5;28;43mlen\u001b[39;49m\u001b[43m(\u001b[49m\u001b[38;5;28;43mself\u001b[39;49m\u001b[38;5;241;43m.\u001b[39;49m\u001b[43mfunction_type\u001b[49m\u001b[38;5;241;43m.\u001b[39;49m\u001b[43mflat_outputs\u001b[49m\u001b[43m)\u001b[49m\u001b[43m,\u001b[49m\n\u001b[0;32m    255\u001b[0m \u001b[43m    \u001b[49m\u001b[43m)\u001b[49m\n\u001b[0;32m    256\u001b[0m   \u001b[38;5;28;01melse\u001b[39;00m:\n\u001b[0;32m    257\u001b[0m     outputs \u001b[38;5;241m=\u001b[39m make_call_op_in_graph(\n\u001b[0;32m    258\u001b[0m         \u001b[38;5;28mself\u001b[39m,\n\u001b[0;32m    259\u001b[0m         \u001b[38;5;28mlist\u001b[39m(args),\n\u001b[0;32m    260\u001b[0m         \u001b[38;5;28mself\u001b[39m\u001b[38;5;241m.\u001b[39m_bound_context\u001b[38;5;241m.\u001b[39mfunction_call_options\u001b[38;5;241m.\u001b[39mas_attrs(),\n\u001b[0;32m    261\u001b[0m     )\n",
      "File \u001b[1;32mC:\\anaconda\\envs\\7_sentiment\\Lib\\site-packages\\tensorflow\\python\\eager\\context.py:1667\u001b[0m, in \u001b[0;36mContext.call_function\u001b[1;34m(self, name, tensor_inputs, num_outputs)\u001b[0m\n\u001b[0;32m   1665\u001b[0m cancellation_context \u001b[38;5;241m=\u001b[39m cancellation\u001b[38;5;241m.\u001b[39mcontext()\n\u001b[0;32m   1666\u001b[0m \u001b[38;5;28;01mif\u001b[39;00m cancellation_context \u001b[38;5;129;01mis\u001b[39;00m \u001b[38;5;28;01mNone\u001b[39;00m:\n\u001b[1;32m-> 1667\u001b[0m   outputs \u001b[38;5;241m=\u001b[39m \u001b[43mexecute\u001b[49m\u001b[38;5;241;43m.\u001b[39;49m\u001b[43mexecute\u001b[49m\u001b[43m(\u001b[49m\n\u001b[0;32m   1668\u001b[0m \u001b[43m      \u001b[49m\u001b[43mname\u001b[49m\u001b[38;5;241;43m.\u001b[39;49m\u001b[43mdecode\u001b[49m\u001b[43m(\u001b[49m\u001b[38;5;124;43m\"\u001b[39;49m\u001b[38;5;124;43mutf-8\u001b[39;49m\u001b[38;5;124;43m\"\u001b[39;49m\u001b[43m)\u001b[49m\u001b[43m,\u001b[49m\n\u001b[0;32m   1669\u001b[0m \u001b[43m      \u001b[49m\u001b[43mnum_outputs\u001b[49m\u001b[38;5;241;43m=\u001b[39;49m\u001b[43mnum_outputs\u001b[49m\u001b[43m,\u001b[49m\n\u001b[0;32m   1670\u001b[0m \u001b[43m      \u001b[49m\u001b[43minputs\u001b[49m\u001b[38;5;241;43m=\u001b[39;49m\u001b[43mtensor_inputs\u001b[49m\u001b[43m,\u001b[49m\n\u001b[0;32m   1671\u001b[0m \u001b[43m      \u001b[49m\u001b[43mattrs\u001b[49m\u001b[38;5;241;43m=\u001b[39;49m\u001b[43mattrs\u001b[49m\u001b[43m,\u001b[49m\n\u001b[0;32m   1672\u001b[0m \u001b[43m      \u001b[49m\u001b[43mctx\u001b[49m\u001b[38;5;241;43m=\u001b[39;49m\u001b[38;5;28;43mself\u001b[39;49m\u001b[43m,\u001b[49m\n\u001b[0;32m   1673\u001b[0m \u001b[43m  \u001b[49m\u001b[43m)\u001b[49m\n\u001b[0;32m   1674\u001b[0m \u001b[38;5;28;01melse\u001b[39;00m:\n\u001b[0;32m   1675\u001b[0m   outputs \u001b[38;5;241m=\u001b[39m execute\u001b[38;5;241m.\u001b[39mexecute_with_cancellation(\n\u001b[0;32m   1676\u001b[0m       name\u001b[38;5;241m.\u001b[39mdecode(\u001b[38;5;124m\"\u001b[39m\u001b[38;5;124mutf-8\u001b[39m\u001b[38;5;124m\"\u001b[39m),\n\u001b[0;32m   1677\u001b[0m       num_outputs\u001b[38;5;241m=\u001b[39mnum_outputs,\n\u001b[1;32m   (...)\u001b[0m\n\u001b[0;32m   1681\u001b[0m       cancellation_manager\u001b[38;5;241m=\u001b[39mcancellation_context,\n\u001b[0;32m   1682\u001b[0m   )\n",
      "File \u001b[1;32mC:\\anaconda\\envs\\7_sentiment\\Lib\\site-packages\\tensorflow\\python\\eager\\execute.py:53\u001b[0m, in \u001b[0;36mquick_execute\u001b[1;34m(op_name, num_outputs, inputs, attrs, ctx, name)\u001b[0m\n\u001b[0;32m     51\u001b[0m \u001b[38;5;28;01mtry\u001b[39;00m:\n\u001b[0;32m     52\u001b[0m   ctx\u001b[38;5;241m.\u001b[39mensure_initialized()\n\u001b[1;32m---> 53\u001b[0m   tensors \u001b[38;5;241m=\u001b[39m \u001b[43mpywrap_tfe\u001b[49m\u001b[38;5;241;43m.\u001b[39;49m\u001b[43mTFE_Py_Execute\u001b[49m\u001b[43m(\u001b[49m\u001b[43mctx\u001b[49m\u001b[38;5;241;43m.\u001b[39;49m\u001b[43m_handle\u001b[49m\u001b[43m,\u001b[49m\u001b[43m \u001b[49m\u001b[43mdevice_name\u001b[49m\u001b[43m,\u001b[49m\u001b[43m \u001b[49m\u001b[43mop_name\u001b[49m\u001b[43m,\u001b[49m\n\u001b[0;32m     54\u001b[0m \u001b[43m                                      \u001b[49m\u001b[43minputs\u001b[49m\u001b[43m,\u001b[49m\u001b[43m \u001b[49m\u001b[43mattrs\u001b[49m\u001b[43m,\u001b[49m\u001b[43m \u001b[49m\u001b[43mnum_outputs\u001b[49m\u001b[43m)\u001b[49m\n\u001b[0;32m     55\u001b[0m \u001b[38;5;28;01mexcept\u001b[39;00m core\u001b[38;5;241m.\u001b[39m_NotOkStatusException \u001b[38;5;28;01mas\u001b[39;00m e:\n\u001b[0;32m     56\u001b[0m   \u001b[38;5;28;01mif\u001b[39;00m name \u001b[38;5;129;01mis\u001b[39;00m \u001b[38;5;129;01mnot\u001b[39;00m \u001b[38;5;28;01mNone\u001b[39;00m:\n",
      "\u001b[1;31mKeyboardInterrupt\u001b[0m: "
     ]
    }
   ],
   "source": [
    "from transformers import AutoTokenizer\n",
    "from transformers import TrainingArguments\n",
    "from transformers import TFAutoModelForSequenceClassification\n",
    "\n",
    "import tensorflow as tf\n",
    "\n",
    "import evaluate\n",
    "\n",
    "from datasets import Dataset, load_dataset\n",
    "\n",
    "import keras\n",
    "\n",
    "model_config = {\n",
    "                'model_type': 'BERTtf',\n",
    "                'preprocessing': \"google-bert/bert-base-cased\",\n",
    "                'pre_trained_embeddings' :  \"aucun\",\n",
    "                'n_sample' : 200000,\n",
    "                'l_r' : 0.00003,\n",
    "                }\n",
    "\n",
    "df_sample = df.sample(n=model_config['n_sample'], random_state=42)\n",
    "\n",
    "df_sample = df_sample[['labels','text']]\n",
    "\n",
    "df_sample_train, df_sample_test = train_test_split(df_sample, test_size=0.2, random_state=42)\n",
    "\n",
    "ds_train = Dataset.from_pandas(df_sample_train,preserve_index=False)\n",
    "ds_test = Dataset.from_pandas(df_sample_test,preserve_index=False)\n",
    "\n",
    "tokenizer = AutoTokenizer.from_pretrained(model_config['preprocessing'])\n",
    "\n",
    "tokenized_data_train = tokenizer(ds_train[\"text\"], return_tensors=\"np\", padding=True)\n",
    "tokenized_data_train = dict(tokenized_data_train)\n",
    "\n",
    "tokenized_data_test = tokenizer(ds_test[\"text\"], return_tensors=\"np\", padding=True)\n",
    "tokenized_data_test = dict(tokenized_data_test)\n",
    "\n",
    "y_train = np.array(ds_train[\"labels\"])  # Label is already an array of 0 and 1\n",
    "y_test = np.array(ds_test[\"labels\"])  # Label is already an array of 0 and 1\n",
    "\n",
    "# Load and compile our model\n",
    "with mlflow.start_run(run_name=model_config['model_type'] + '_' + model_config['preprocessing'] + '_' + model_config['pre_trained_embeddings']):\n",
    "\n",
    "    model = TFAutoModelForSequenceClassification.from_pretrained(model_config['preprocessing'])\n",
    "    model.compile(optimizer=tf.optimizers.Adam(learning_rate=model_config['l_r']),\n",
    "                  metrics=['accuracy'])\n",
    "    model.fit(tokenized_data_train, y_train)\n",
    "\n",
    "    # Make predictions on the test data\n",
    "    predictions = model.predict(tokenized_data_test)\n",
    "    \n",
    "    # Convert predictions to probabilities and classes\n",
    "    predicted_probs = tf.nn.softmax(predictions.logits, axis=-1)\n",
    "    y_pred = tf.argmax(predicted_probs, axis=1).numpy()\n",
    "    \n",
    "    display(y_test)\n",
    "    display(y_pred)\n",
    "    display(predicted_probs)\n",
    "    # Calculate sklearn metrics\n",
    "    accuracy = accuracy_score(y_test, y_pred)\n",
    "    auc = roc_auc_score(y_test, predicted_probs[:, 1])\n",
    "\n",
    "    # Log metrics\n",
    "    mlflow.keras.log_model(model, \"model\")        \n",
    "    mlflow.log_metric(\"Test Accuracy\", accuracy)\n",
    "    mlflow.log_metric(\"Test Auc\", auc)\n",
    "    mlflow.log_params(model_config)  # Log model configuration\n"
   ]
  },
  {
   "cell_type": "code",
   "execution_count": null,
   "id": "56286921",
   "metadata": {},
   "outputs": [],
   "source": []
  }
 ],
 "metadata": {
  "kernelspec": {
   "display_name": "7_sentiment",
   "language": "python",
   "name": "7_sentiment"
  },
  "language_info": {
   "codemirror_mode": {
    "name": "ipython",
    "version": 3
   },
   "file_extension": ".py",
   "mimetype": "text/x-python",
   "name": "python",
   "nbconvert_exporter": "python",
   "pygments_lexer": "ipython3",
   "version": "3.11.0"
  }
 },
 "nbformat": 4,
 "nbformat_minor": 5
}
